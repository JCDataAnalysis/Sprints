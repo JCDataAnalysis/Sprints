{
 "cells": [
  {
   "cell_type": "markdown",
   "id": "79fd07f8",
   "metadata": {},
   "source": [
    "#### Exercici 1. Crea almenys dos models de regressió diferents per intentar predir el millor possible el preu de les vivendes (MEDV) de l'arxiu adjunt."
   ]
  },
  {
   "cell_type": "markdown",
   "id": "85db8b09",
   "metadata": {},
   "source": [
    "NOTA: Partim del conjunt Train i Test analitzats, preprocessats i transformats en el Sprint 5."
   ]
  },
  {
   "cell_type": "code",
   "execution_count": 2,
   "id": "370d9399",
   "metadata": {},
   "outputs": [],
   "source": [
    "import numpy as np\n",
    "import pandas as pd\n",
    "import seaborn as sns\n",
    "import matplotlib.pyplot as plt"
   ]
  },
  {
   "cell_type": "code",
   "execution_count": 3,
   "id": "29fe4c59",
   "metadata": {},
   "outputs": [
    {
     "data": {
      "text/html": [
       "<div>\n",
       "<style scoped>\n",
       "    .dataframe tbody tr th:only-of-type {\n",
       "        vertical-align: middle;\n",
       "    }\n",
       "\n",
       "    .dataframe tbody tr th {\n",
       "        vertical-align: top;\n",
       "    }\n",
       "\n",
       "    .dataframe thead th {\n",
       "        text-align: right;\n",
       "    }\n",
       "</style>\n",
       "<table border=\"1\" class=\"dataframe\">\n",
       "  <thead>\n",
       "    <tr style=\"text-align: right;\">\n",
       "      <th></th>\n",
       "      <th>Unnamed: 0</th>\n",
       "      <th>CRIM</th>\n",
       "      <th>ZN</th>\n",
       "      <th>RM</th>\n",
       "      <th>PTRATIO</th>\n",
       "      <th>B</th>\n",
       "      <th>LSTAT</th>\n",
       "      <th>INDUS</th>\n",
       "      <th>NOX</th>\n",
       "      <th>AGE</th>\n",
       "      <th>...</th>\n",
       "      <th>CHAS</th>\n",
       "      <th>RAD_2</th>\n",
       "      <th>RAD_24</th>\n",
       "      <th>RAD_3</th>\n",
       "      <th>RAD_4</th>\n",
       "      <th>RAD_5</th>\n",
       "      <th>RAD_6</th>\n",
       "      <th>RAD_7</th>\n",
       "      <th>RAD_8</th>\n",
       "      <th>MEDV</th>\n",
       "    </tr>\n",
       "  </thead>\n",
       "  <tbody>\n",
       "    <tr>\n",
       "      <th>0</th>\n",
       "      <td>477</td>\n",
       "      <td>4.729102</td>\n",
       "      <td>0.00</td>\n",
       "      <td>-1.214070</td>\n",
       "      <td>0.441176</td>\n",
       "      <td>-2.062123</td>\n",
       "      <td>1.456771</td>\n",
       "      <td>0.642963</td>\n",
       "      <td>0.471193</td>\n",
       "      <td>0.972194</td>\n",
       "      <td>...</td>\n",
       "      <td>0</td>\n",
       "      <td>0</td>\n",
       "      <td>1</td>\n",
       "      <td>0</td>\n",
       "      <td>0</td>\n",
       "      <td>0</td>\n",
       "      <td>0</td>\n",
       "      <td>0</td>\n",
       "      <td>0</td>\n",
       "      <td>12.0</td>\n",
       "    </tr>\n",
       "    <tr>\n",
       "      <th>1</th>\n",
       "      <td>15</td>\n",
       "      <td>0.117250</td>\n",
       "      <td>0.00</td>\n",
       "      <td>-0.503853</td>\n",
       "      <td>0.676471</td>\n",
       "      <td>0.212745</td>\n",
       "      <td>-0.255729</td>\n",
       "      <td>0.274074</td>\n",
       "      <td>0.314815</td>\n",
       "      <td>0.552008</td>\n",
       "      <td>...</td>\n",
       "      <td>0</td>\n",
       "      <td>0</td>\n",
       "      <td>0</td>\n",
       "      <td>0</td>\n",
       "      <td>1</td>\n",
       "      <td>0</td>\n",
       "      <td>0</td>\n",
       "      <td>0</td>\n",
       "      <td>0</td>\n",
       "      <td>19.9</td>\n",
       "    </tr>\n",
       "    <tr>\n",
       "      <th>2</th>\n",
       "      <td>332</td>\n",
       "      <td>-0.072634</td>\n",
       "      <td>1.75</td>\n",
       "      <td>-0.239866</td>\n",
       "      <td>-0.529412</td>\n",
       "      <td>-1.432516</td>\n",
       "      <td>-0.322396</td>\n",
       "      <td>0.197037</td>\n",
       "      <td>0.108848</td>\n",
       "      <td>0.210093</td>\n",
       "      <td>...</td>\n",
       "      <td>0</td>\n",
       "      <td>0</td>\n",
       "      <td>0</td>\n",
       "      <td>0</td>\n",
       "      <td>0</td>\n",
       "      <td>0</td>\n",
       "      <td>0</td>\n",
       "      <td>0</td>\n",
       "      <td>0</td>\n",
       "      <td>19.4</td>\n",
       "    </tr>\n",
       "    <tr>\n",
       "      <th>3</th>\n",
       "      <td>423</td>\n",
       "      <td>2.174908</td>\n",
       "      <td>0.00</td>\n",
       "      <td>-0.143384</td>\n",
       "      <td>0.441176</td>\n",
       "      <td>-19.168495</td>\n",
       "      <td>1.288021</td>\n",
       "      <td>0.642963</td>\n",
       "      <td>0.471193</td>\n",
       "      <td>0.846550</td>\n",
       "      <td>...</td>\n",
       "      <td>0</td>\n",
       "      <td>0</td>\n",
       "      <td>1</td>\n",
       "      <td>0</td>\n",
       "      <td>0</td>\n",
       "      <td>0</td>\n",
       "      <td>0</td>\n",
       "      <td>0</td>\n",
       "      <td>0</td>\n",
       "      <td>13.4</td>\n",
       "    </tr>\n",
       "    <tr>\n",
       "      <th>4</th>\n",
       "      <td>19</td>\n",
       "      <td>0.148777</td>\n",
       "      <td>0.00</td>\n",
       "      <td>-0.647236</td>\n",
       "      <td>0.676471</td>\n",
       "      <td>-0.017503</td>\n",
       "      <td>0.036979</td>\n",
       "      <td>0.274074</td>\n",
       "      <td>0.314815</td>\n",
       "      <td>0.685891</td>\n",
       "      <td>...</td>\n",
       "      <td>0</td>\n",
       "      <td>0</td>\n",
       "      <td>0</td>\n",
       "      <td>0</td>\n",
       "      <td>1</td>\n",
       "      <td>0</td>\n",
       "      <td>0</td>\n",
       "      <td>0</td>\n",
       "      <td>0</td>\n",
       "      <td>18.2</td>\n",
       "    </tr>\n",
       "  </tbody>\n",
       "</table>\n",
       "<p>5 rows × 21 columns</p>\n",
       "</div>"
      ],
      "text/plain": [
       "   Unnamed: 0      CRIM    ZN        RM   PTRATIO          B     LSTAT  \\\n",
       "0         477  4.729102  0.00 -1.214070  0.441176  -2.062123  1.456771   \n",
       "1          15  0.117250  0.00 -0.503853  0.676471   0.212745 -0.255729   \n",
       "2         332 -0.072634  1.75 -0.239866 -0.529412  -1.432516 -0.322396   \n",
       "3         423  2.174908  0.00 -0.143384  0.441176 -19.168495  1.288021   \n",
       "4          19  0.148777  0.00 -0.647236  0.676471  -0.017503  0.036979   \n",
       "\n",
       "      INDUS       NOX       AGE  ...  CHAS  RAD_2  RAD_24  RAD_3  RAD_4  \\\n",
       "0  0.642963  0.471193  0.972194  ...     0      0       1      0      0   \n",
       "1  0.274074  0.314815  0.552008  ...     0      0       0      0      1   \n",
       "2  0.197037  0.108848  0.210093  ...     0      0       0      0      0   \n",
       "3  0.642963  0.471193  0.846550  ...     0      0       1      0      0   \n",
       "4  0.274074  0.314815  0.685891  ...     0      0       0      0      1   \n",
       "\n",
       "   RAD_5  RAD_6  RAD_7  RAD_8  MEDV  \n",
       "0      0      0      0      0  12.0  \n",
       "1      0      0      0      0  19.9  \n",
       "2      0      0      0      0  19.4  \n",
       "3      0      0      0      0  13.4  \n",
       "4      0      0      0      0  18.2  \n",
       "\n",
       "[5 rows x 21 columns]"
      ]
     },
     "execution_count": 3,
     "metadata": {},
     "output_type": "execute_result"
    }
   ],
   "source": [
    "#Conjunt Train analitzat, preprocessat i transformat en el Sprint 5\n",
    "housing_ML_train = pd.read_excel('/Users/juliacorominasfont/Desktop/DATA ANALYST/Bootcamp IT Academy/Tasques Sprints/Sprint_6_ML_Regressions/housing_train_transformed.xlsx')\n",
    "housing_ML_train.head(5)"
   ]
  },
  {
   "cell_type": "code",
   "execution_count": 4,
   "id": "e5bc774d",
   "metadata": {},
   "outputs": [
    {
     "data": {
      "text/html": [
       "<div>\n",
       "<style scoped>\n",
       "    .dataframe tbody tr th:only-of-type {\n",
       "        vertical-align: middle;\n",
       "    }\n",
       "\n",
       "    .dataframe tbody tr th {\n",
       "        vertical-align: top;\n",
       "    }\n",
       "\n",
       "    .dataframe thead th {\n",
       "        text-align: right;\n",
       "    }\n",
       "</style>\n",
       "<table border=\"1\" class=\"dataframe\">\n",
       "  <thead>\n",
       "    <tr style=\"text-align: right;\">\n",
       "      <th></th>\n",
       "      <th>CRIM</th>\n",
       "      <th>ZN</th>\n",
       "      <th>RM</th>\n",
       "      <th>PTRATIO</th>\n",
       "      <th>B</th>\n",
       "      <th>LSTAT</th>\n",
       "      <th>INDUS</th>\n",
       "      <th>NOX</th>\n",
       "      <th>AGE</th>\n",
       "      <th>TAX</th>\n",
       "      <th>CHAS</th>\n",
       "      <th>RAD_2</th>\n",
       "      <th>RAD_24</th>\n",
       "      <th>RAD_3</th>\n",
       "      <th>RAD_4</th>\n",
       "      <th>RAD_5</th>\n",
       "      <th>RAD_6</th>\n",
       "      <th>RAD_7</th>\n",
       "      <th>RAD_8</th>\n",
       "      <th>MEDV</th>\n",
       "    </tr>\n",
       "  </thead>\n",
       "  <tbody>\n",
       "    <tr>\n",
       "      <th>0</th>\n",
       "      <td>4.729102</td>\n",
       "      <td>0.00</td>\n",
       "      <td>-1.214070</td>\n",
       "      <td>0.441176</td>\n",
       "      <td>-2.062123</td>\n",
       "      <td>1.456771</td>\n",
       "      <td>0.642963</td>\n",
       "      <td>0.471193</td>\n",
       "      <td>0.972194</td>\n",
       "      <td>0.914122</td>\n",
       "      <td>0</td>\n",
       "      <td>0</td>\n",
       "      <td>1</td>\n",
       "      <td>0</td>\n",
       "      <td>0</td>\n",
       "      <td>0</td>\n",
       "      <td>0</td>\n",
       "      <td>0</td>\n",
       "      <td>0</td>\n",
       "      <td>12.0</td>\n",
       "    </tr>\n",
       "    <tr>\n",
       "      <th>1</th>\n",
       "      <td>0.117250</td>\n",
       "      <td>0.00</td>\n",
       "      <td>-0.503853</td>\n",
       "      <td>0.676471</td>\n",
       "      <td>0.212745</td>\n",
       "      <td>-0.255729</td>\n",
       "      <td>0.274074</td>\n",
       "      <td>0.314815</td>\n",
       "      <td>0.552008</td>\n",
       "      <td>0.229008</td>\n",
       "      <td>0</td>\n",
       "      <td>0</td>\n",
       "      <td>0</td>\n",
       "      <td>0</td>\n",
       "      <td>1</td>\n",
       "      <td>0</td>\n",
       "      <td>0</td>\n",
       "      <td>0</td>\n",
       "      <td>0</td>\n",
       "      <td>19.9</td>\n",
       "    </tr>\n",
       "    <tr>\n",
       "      <th>2</th>\n",
       "      <td>-0.072634</td>\n",
       "      <td>1.75</td>\n",
       "      <td>-0.239866</td>\n",
       "      <td>-0.529412</td>\n",
       "      <td>-1.432516</td>\n",
       "      <td>-0.322396</td>\n",
       "      <td>0.197037</td>\n",
       "      <td>0.108848</td>\n",
       "      <td>0.210093</td>\n",
       "      <td>0.223282</td>\n",
       "      <td>0</td>\n",
       "      <td>0</td>\n",
       "      <td>0</td>\n",
       "      <td>0</td>\n",
       "      <td>0</td>\n",
       "      <td>0</td>\n",
       "      <td>0</td>\n",
       "      <td>0</td>\n",
       "      <td>0</td>\n",
       "      <td>19.4</td>\n",
       "    </tr>\n",
       "    <tr>\n",
       "      <th>3</th>\n",
       "      <td>2.174908</td>\n",
       "      <td>0.00</td>\n",
       "      <td>-0.143384</td>\n",
       "      <td>0.441176</td>\n",
       "      <td>-19.168495</td>\n",
       "      <td>1.288021</td>\n",
       "      <td>0.642963</td>\n",
       "      <td>0.471193</td>\n",
       "      <td>0.846550</td>\n",
       "      <td>0.914122</td>\n",
       "      <td>0</td>\n",
       "      <td>0</td>\n",
       "      <td>1</td>\n",
       "      <td>0</td>\n",
       "      <td>0</td>\n",
       "      <td>0</td>\n",
       "      <td>0</td>\n",
       "      <td>0</td>\n",
       "      <td>0</td>\n",
       "      <td>13.4</td>\n",
       "    </tr>\n",
       "    <tr>\n",
       "      <th>4</th>\n",
       "      <td>0.148777</td>\n",
       "      <td>0.00</td>\n",
       "      <td>-0.647236</td>\n",
       "      <td>0.676471</td>\n",
       "      <td>-0.017503</td>\n",
       "      <td>0.036979</td>\n",
       "      <td>0.274074</td>\n",
       "      <td>0.314815</td>\n",
       "      <td>0.685891</td>\n",
       "      <td>0.229008</td>\n",
       "      <td>0</td>\n",
       "      <td>0</td>\n",
       "      <td>0</td>\n",
       "      <td>0</td>\n",
       "      <td>1</td>\n",
       "      <td>0</td>\n",
       "      <td>0</td>\n",
       "      <td>0</td>\n",
       "      <td>0</td>\n",
       "      <td>18.2</td>\n",
       "    </tr>\n",
       "  </tbody>\n",
       "</table>\n",
       "</div>"
      ],
      "text/plain": [
       "       CRIM    ZN        RM   PTRATIO          B     LSTAT     INDUS  \\\n",
       "0  4.729102  0.00 -1.214070  0.441176  -2.062123  1.456771  0.642963   \n",
       "1  0.117250  0.00 -0.503853  0.676471   0.212745 -0.255729  0.274074   \n",
       "2 -0.072634  1.75 -0.239866 -0.529412  -1.432516 -0.322396  0.197037   \n",
       "3  2.174908  0.00 -0.143384  0.441176 -19.168495  1.288021  0.642963   \n",
       "4  0.148777  0.00 -0.647236  0.676471  -0.017503  0.036979  0.274074   \n",
       "\n",
       "        NOX       AGE       TAX  CHAS  RAD_2  RAD_24  RAD_3  RAD_4  RAD_5  \\\n",
       "0  0.471193  0.972194  0.914122     0      0       1      0      0      0   \n",
       "1  0.314815  0.552008  0.229008     0      0       0      0      1      0   \n",
       "2  0.108848  0.210093  0.223282     0      0       0      0      0      0   \n",
       "3  0.471193  0.846550  0.914122     0      0       1      0      0      0   \n",
       "4  0.314815  0.685891  0.229008     0      0       0      0      1      0   \n",
       "\n",
       "   RAD_6  RAD_7  RAD_8  MEDV  \n",
       "0      0      0      0  12.0  \n",
       "1      0      0      0  19.9  \n",
       "2      0      0      0  19.4  \n",
       "3      0      0      0  13.4  \n",
       "4      0      0      0  18.2  "
      ]
     },
     "execution_count": 4,
     "metadata": {},
     "output_type": "execute_result"
    }
   ],
   "source": [
    "#Eliminació de columnes no rellevants\n",
    "housing_ML_train.drop('Unnamed: 0', axis=1, inplace=True)\n",
    "housing_ML_train.head(5)"
   ]
  },
  {
   "cell_type": "code",
   "execution_count": 5,
   "id": "c27ecd2f",
   "metadata": {},
   "outputs": [],
   "source": [
    "#Variables X i y\n",
    "X_train = housing_ML_train.drop('MEDV', axis=1)\n",
    "y_train = housing_ML_train['MEDV']"
   ]
  },
  {
   "cell_type": "code",
   "execution_count": 6,
   "id": "be92e3e6",
   "metadata": {},
   "outputs": [
    {
     "data": {
      "text/html": [
       "<div>\n",
       "<style scoped>\n",
       "    .dataframe tbody tr th:only-of-type {\n",
       "        vertical-align: middle;\n",
       "    }\n",
       "\n",
       "    .dataframe tbody tr th {\n",
       "        vertical-align: top;\n",
       "    }\n",
       "\n",
       "    .dataframe thead th {\n",
       "        text-align: right;\n",
       "    }\n",
       "</style>\n",
       "<table border=\"1\" class=\"dataframe\">\n",
       "  <thead>\n",
       "    <tr style=\"text-align: right;\">\n",
       "      <th></th>\n",
       "      <th>Unnamed: 0</th>\n",
       "      <th>CRIM</th>\n",
       "      <th>ZN</th>\n",
       "      <th>RM</th>\n",
       "      <th>PTRATIO</th>\n",
       "      <th>B</th>\n",
       "      <th>LSTAT</th>\n",
       "      <th>INDUS</th>\n",
       "      <th>NOX</th>\n",
       "      <th>AGE</th>\n",
       "      <th>...</th>\n",
       "      <th>CHAS</th>\n",
       "      <th>RAD_2</th>\n",
       "      <th>RAD_24</th>\n",
       "      <th>RAD_3</th>\n",
       "      <th>RAD_4</th>\n",
       "      <th>RAD_5</th>\n",
       "      <th>RAD_6</th>\n",
       "      <th>RAD_7</th>\n",
       "      <th>RAD_8</th>\n",
       "      <th>MEDV</th>\n",
       "    </tr>\n",
       "  </thead>\n",
       "  <tbody>\n",
       "    <tr>\n",
       "      <th>0</th>\n",
       "      <td>173</td>\n",
       "      <td>-0.054336</td>\n",
       "      <td>0.0</td>\n",
       "      <td>0.276047</td>\n",
       "      <td>-0.617647</td>\n",
       "      <td>0.206829</td>\n",
       "      <td>-0.196354</td>\n",
       "      <td>0.122593</td>\n",
       "      <td>0.257202</td>\n",
       "      <td>0.836251</td>\n",
       "      <td>...</td>\n",
       "      <td>0</td>\n",
       "      <td>0</td>\n",
       "      <td>0</td>\n",
       "      <td>0</td>\n",
       "      <td>0</td>\n",
       "      <td>1</td>\n",
       "      <td>0</td>\n",
       "      <td>0</td>\n",
       "      <td>0</td>\n",
       "      <td>23.6</td>\n",
       "    </tr>\n",
       "    <tr>\n",
       "      <th>1</th>\n",
       "      <td>274</td>\n",
       "      <td>-0.065657</td>\n",
       "      <td>2.0</td>\n",
       "      <td>0.734338</td>\n",
       "      <td>-0.323529</td>\n",
       "      <td>0.275854</td>\n",
       "      <td>-0.770313</td>\n",
       "      <td>0.210000</td>\n",
       "      <td>0.127572</td>\n",
       "      <td>0.308960</td>\n",
       "      <td>...</td>\n",
       "      <td>1</td>\n",
       "      <td>0</td>\n",
       "      <td>0</td>\n",
       "      <td>0</td>\n",
       "      <td>1</td>\n",
       "      <td>0</td>\n",
       "      <td>0</td>\n",
       "      <td>0</td>\n",
       "      <td>0</td>\n",
       "      <td>32.4</td>\n",
       "    </tr>\n",
       "    <tr>\n",
       "      <th>2</th>\n",
       "      <td>491</td>\n",
       "      <td>-0.049863</td>\n",
       "      <td>0.0</td>\n",
       "      <td>-0.304188</td>\n",
       "      <td>0.411765</td>\n",
       "      <td>-0.058918</td>\n",
       "      <td>0.744271</td>\n",
       "      <td>1.000000</td>\n",
       "      <td>0.460905</td>\n",
       "      <td>0.987642</td>\n",
       "      <td>...</td>\n",
       "      <td>0</td>\n",
       "      <td>0</td>\n",
       "      <td>0</td>\n",
       "      <td>0</td>\n",
       "      <td>1</td>\n",
       "      <td>0</td>\n",
       "      <td>0</td>\n",
       "      <td>0</td>\n",
       "      <td>0</td>\n",
       "      <td>13.6</td>\n",
       "    </tr>\n",
       "    <tr>\n",
       "      <th>3</th>\n",
       "      <td>72</td>\n",
       "      <td>-0.054380</td>\n",
       "      <td>0.0</td>\n",
       "      <td>-0.194305</td>\n",
       "      <td>0.147059</td>\n",
       "      <td>-0.019475</td>\n",
       "      <td>-0.563021</td>\n",
       "      <td>0.372963</td>\n",
       "      <td>0.057613</td>\n",
       "      <td>0.050463</td>\n",
       "      <td>...</td>\n",
       "      <td>0</td>\n",
       "      <td>0</td>\n",
       "      <td>0</td>\n",
       "      <td>0</td>\n",
       "      <td>1</td>\n",
       "      <td>0</td>\n",
       "      <td>0</td>\n",
       "      <td>0</td>\n",
       "      <td>0</td>\n",
       "      <td>22.8</td>\n",
       "    </tr>\n",
       "    <tr>\n",
       "      <th>4</th>\n",
       "      <td>452</td>\n",
       "      <td>1.546930</td>\n",
       "      <td>0.0</td>\n",
       "      <td>0.116583</td>\n",
       "      <td>0.441176</td>\n",
       "      <td>-0.306422</td>\n",
       "      <td>0.660937</td>\n",
       "      <td>0.642963</td>\n",
       "      <td>0.674897</td>\n",
       "      <td>0.915551</td>\n",
       "      <td>...</td>\n",
       "      <td>0</td>\n",
       "      <td>0</td>\n",
       "      <td>1</td>\n",
       "      <td>0</td>\n",
       "      <td>0</td>\n",
       "      <td>0</td>\n",
       "      <td>0</td>\n",
       "      <td>0</td>\n",
       "      <td>0</td>\n",
       "      <td>16.1</td>\n",
       "    </tr>\n",
       "  </tbody>\n",
       "</table>\n",
       "<p>5 rows × 21 columns</p>\n",
       "</div>"
      ],
      "text/plain": [
       "   Unnamed: 0      CRIM   ZN        RM   PTRATIO         B     LSTAT  \\\n",
       "0         173 -0.054336  0.0  0.276047 -0.617647  0.206829 -0.196354   \n",
       "1         274 -0.065657  2.0  0.734338 -0.323529  0.275854 -0.770313   \n",
       "2         491 -0.049863  0.0 -0.304188  0.411765 -0.058918  0.744271   \n",
       "3          72 -0.054380  0.0 -0.194305  0.147059 -0.019475 -0.563021   \n",
       "4         452  1.546930  0.0  0.116583  0.441176 -0.306422  0.660937   \n",
       "\n",
       "      INDUS       NOX       AGE  ...  CHAS  RAD_2  RAD_24  RAD_3  RAD_4  \\\n",
       "0  0.122593  0.257202  0.836251  ...     0      0       0      0      0   \n",
       "1  0.210000  0.127572  0.308960  ...     1      0       0      0      1   \n",
       "2  1.000000  0.460905  0.987642  ...     0      0       0      0      1   \n",
       "3  0.372963  0.057613  0.050463  ...     0      0       0      0      1   \n",
       "4  0.642963  0.674897  0.915551  ...     0      0       1      0      0   \n",
       "\n",
       "   RAD_5  RAD_6  RAD_7  RAD_8  MEDV  \n",
       "0      1      0      0      0  23.6  \n",
       "1      0      0      0      0  32.4  \n",
       "2      0      0      0      0  13.6  \n",
       "3      0      0      0      0  22.8  \n",
       "4      0      0      0      0  16.1  \n",
       "\n",
       "[5 rows x 21 columns]"
      ]
     },
     "execution_count": 6,
     "metadata": {},
     "output_type": "execute_result"
    }
   ],
   "source": [
    "#Conjunt Test analitzat, preprocessat i transformat en el Sprint 5\n",
    "housing_ML_test = pd.read_excel('/Users/juliacorominasfont/Desktop/DATA ANALYST/Bootcamp IT Academy/Tasques Sprints/Sprint_6_ML_Regressions/housing_test_transformed.xlsx')\n",
    "housing_ML_test.head(5)"
   ]
  },
  {
   "cell_type": "code",
   "execution_count": 7,
   "id": "6864cee9",
   "metadata": {},
   "outputs": [
    {
     "data": {
      "text/html": [
       "<div>\n",
       "<style scoped>\n",
       "    .dataframe tbody tr th:only-of-type {\n",
       "        vertical-align: middle;\n",
       "    }\n",
       "\n",
       "    .dataframe tbody tr th {\n",
       "        vertical-align: top;\n",
       "    }\n",
       "\n",
       "    .dataframe thead th {\n",
       "        text-align: right;\n",
       "    }\n",
       "</style>\n",
       "<table border=\"1\" class=\"dataframe\">\n",
       "  <thead>\n",
       "    <tr style=\"text-align: right;\">\n",
       "      <th></th>\n",
       "      <th>CRIM</th>\n",
       "      <th>ZN</th>\n",
       "      <th>RM</th>\n",
       "      <th>PTRATIO</th>\n",
       "      <th>B</th>\n",
       "      <th>LSTAT</th>\n",
       "      <th>INDUS</th>\n",
       "      <th>NOX</th>\n",
       "      <th>AGE</th>\n",
       "      <th>TAX</th>\n",
       "      <th>CHAS</th>\n",
       "      <th>RAD_2</th>\n",
       "      <th>RAD_24</th>\n",
       "      <th>RAD_3</th>\n",
       "      <th>RAD_4</th>\n",
       "      <th>RAD_5</th>\n",
       "      <th>RAD_6</th>\n",
       "      <th>RAD_7</th>\n",
       "      <th>RAD_8</th>\n",
       "      <th>MEDV</th>\n",
       "    </tr>\n",
       "  </thead>\n",
       "  <tbody>\n",
       "    <tr>\n",
       "      <th>0</th>\n",
       "      <td>-0.054336</td>\n",
       "      <td>0.0</td>\n",
       "      <td>0.276047</td>\n",
       "      <td>-0.617647</td>\n",
       "      <td>0.206829</td>\n",
       "      <td>-0.196354</td>\n",
       "      <td>0.122593</td>\n",
       "      <td>0.257202</td>\n",
       "      <td>0.836251</td>\n",
       "      <td>0.208015</td>\n",
       "      <td>0</td>\n",
       "      <td>0</td>\n",
       "      <td>0</td>\n",
       "      <td>0</td>\n",
       "      <td>0</td>\n",
       "      <td>1</td>\n",
       "      <td>0</td>\n",
       "      <td>0</td>\n",
       "      <td>0</td>\n",
       "      <td>23.6</td>\n",
       "    </tr>\n",
       "    <tr>\n",
       "      <th>1</th>\n",
       "      <td>-0.065657</td>\n",
       "      <td>2.0</td>\n",
       "      <td>0.734338</td>\n",
       "      <td>-0.323529</td>\n",
       "      <td>0.275854</td>\n",
       "      <td>-0.770313</td>\n",
       "      <td>0.210000</td>\n",
       "      <td>0.127572</td>\n",
       "      <td>0.308960</td>\n",
       "      <td>0.127863</td>\n",
       "      <td>1</td>\n",
       "      <td>0</td>\n",
       "      <td>0</td>\n",
       "      <td>0</td>\n",
       "      <td>1</td>\n",
       "      <td>0</td>\n",
       "      <td>0</td>\n",
       "      <td>0</td>\n",
       "      <td>0</td>\n",
       "      <td>32.4</td>\n",
       "    </tr>\n",
       "    <tr>\n",
       "      <th>2</th>\n",
       "      <td>-0.049863</td>\n",
       "      <td>0.0</td>\n",
       "      <td>-0.304188</td>\n",
       "      <td>0.411765</td>\n",
       "      <td>-0.058918</td>\n",
       "      <td>0.744271</td>\n",
       "      <td>1.000000</td>\n",
       "      <td>0.460905</td>\n",
       "      <td>0.987642</td>\n",
       "      <td>1.000000</td>\n",
       "      <td>0</td>\n",
       "      <td>0</td>\n",
       "      <td>0</td>\n",
       "      <td>0</td>\n",
       "      <td>1</td>\n",
       "      <td>0</td>\n",
       "      <td>0</td>\n",
       "      <td>0</td>\n",
       "      <td>0</td>\n",
       "      <td>13.6</td>\n",
       "    </tr>\n",
       "    <tr>\n",
       "      <th>3</th>\n",
       "      <td>-0.054380</td>\n",
       "      <td>0.0</td>\n",
       "      <td>-0.194305</td>\n",
       "      <td>0.147059</td>\n",
       "      <td>-0.019475</td>\n",
       "      <td>-0.563021</td>\n",
       "      <td>0.372963</td>\n",
       "      <td>0.057613</td>\n",
       "      <td>0.050463</td>\n",
       "      <td>0.225191</td>\n",
       "      <td>0</td>\n",
       "      <td>0</td>\n",
       "      <td>0</td>\n",
       "      <td>0</td>\n",
       "      <td>1</td>\n",
       "      <td>0</td>\n",
       "      <td>0</td>\n",
       "      <td>0</td>\n",
       "      <td>0</td>\n",
       "      <td>22.8</td>\n",
       "    </tr>\n",
       "    <tr>\n",
       "      <th>4</th>\n",
       "      <td>1.546930</td>\n",
       "      <td>0.0</td>\n",
       "      <td>0.116583</td>\n",
       "      <td>0.441176</td>\n",
       "      <td>-0.306422</td>\n",
       "      <td>0.660937</td>\n",
       "      <td>0.642963</td>\n",
       "      <td>0.674897</td>\n",
       "      <td>0.915551</td>\n",
       "      <td>0.914122</td>\n",
       "      <td>0</td>\n",
       "      <td>0</td>\n",
       "      <td>1</td>\n",
       "      <td>0</td>\n",
       "      <td>0</td>\n",
       "      <td>0</td>\n",
       "      <td>0</td>\n",
       "      <td>0</td>\n",
       "      <td>0</td>\n",
       "      <td>16.1</td>\n",
       "    </tr>\n",
       "  </tbody>\n",
       "</table>\n",
       "</div>"
      ],
      "text/plain": [
       "       CRIM   ZN        RM   PTRATIO         B     LSTAT     INDUS       NOX  \\\n",
       "0 -0.054336  0.0  0.276047 -0.617647  0.206829 -0.196354  0.122593  0.257202   \n",
       "1 -0.065657  2.0  0.734338 -0.323529  0.275854 -0.770313  0.210000  0.127572   \n",
       "2 -0.049863  0.0 -0.304188  0.411765 -0.058918  0.744271  1.000000  0.460905   \n",
       "3 -0.054380  0.0 -0.194305  0.147059 -0.019475 -0.563021  0.372963  0.057613   \n",
       "4  1.546930  0.0  0.116583  0.441176 -0.306422  0.660937  0.642963  0.674897   \n",
       "\n",
       "        AGE       TAX  CHAS  RAD_2  RAD_24  RAD_3  RAD_4  RAD_5  RAD_6  RAD_7  \\\n",
       "0  0.836251  0.208015     0      0       0      0      0      1      0      0   \n",
       "1  0.308960  0.127863     1      0       0      0      1      0      0      0   \n",
       "2  0.987642  1.000000     0      0       0      0      1      0      0      0   \n",
       "3  0.050463  0.225191     0      0       0      0      1      0      0      0   \n",
       "4  0.915551  0.914122     0      0       1      0      0      0      0      0   \n",
       "\n",
       "   RAD_8  MEDV  \n",
       "0      0  23.6  \n",
       "1      0  32.4  \n",
       "2      0  13.6  \n",
       "3      0  22.8  \n",
       "4      0  16.1  "
      ]
     },
     "execution_count": 7,
     "metadata": {},
     "output_type": "execute_result"
    }
   ],
   "source": [
    "#Eliminació de columnes no rellevants\n",
    "housing_ML_test.drop('Unnamed: 0', axis=1, inplace=True)\n",
    "housing_ML_test.head(5)"
   ]
  },
  {
   "cell_type": "code",
   "execution_count": 8,
   "id": "d4d1f6e1",
   "metadata": {},
   "outputs": [],
   "source": [
    "#Variables X i y\n",
    "X_test = housing_ML_test.drop('MEDV', axis=1)\n",
    "y_test = housing_ML_test['MEDV']"
   ]
  },
  {
   "cell_type": "markdown",
   "id": "24d7dd9c",
   "metadata": {},
   "source": [
    "### Models"
   ]
  },
  {
   "cell_type": "markdown",
   "id": "815e867e",
   "metadata": {},
   "source": [
    "#### Decision Tree Regression"
   ]
  },
  {
   "cell_type": "code",
   "execution_count": 9,
   "id": "678c15e5",
   "metadata": {},
   "outputs": [
    {
     "data": {
      "text/html": [
       "<style>#sk-container-id-1 {color: black;background-color: white;}#sk-container-id-1 pre{padding: 0;}#sk-container-id-1 div.sk-toggleable {background-color: white;}#sk-container-id-1 label.sk-toggleable__label {cursor: pointer;display: block;width: 100%;margin-bottom: 0;padding: 0.3em;box-sizing: border-box;text-align: center;}#sk-container-id-1 label.sk-toggleable__label-arrow:before {content: \"▸\";float: left;margin-right: 0.25em;color: #696969;}#sk-container-id-1 label.sk-toggleable__label-arrow:hover:before {color: black;}#sk-container-id-1 div.sk-estimator:hover label.sk-toggleable__label-arrow:before {color: black;}#sk-container-id-1 div.sk-toggleable__content {max-height: 0;max-width: 0;overflow: hidden;text-align: left;background-color: #f0f8ff;}#sk-container-id-1 div.sk-toggleable__content pre {margin: 0.2em;color: black;border-radius: 0.25em;background-color: #f0f8ff;}#sk-container-id-1 input.sk-toggleable__control:checked~div.sk-toggleable__content {max-height: 200px;max-width: 100%;overflow: auto;}#sk-container-id-1 input.sk-toggleable__control:checked~label.sk-toggleable__label-arrow:before {content: \"▾\";}#sk-container-id-1 div.sk-estimator input.sk-toggleable__control:checked~label.sk-toggleable__label {background-color: #d4ebff;}#sk-container-id-1 div.sk-label input.sk-toggleable__control:checked~label.sk-toggleable__label {background-color: #d4ebff;}#sk-container-id-1 input.sk-hidden--visually {border: 0;clip: rect(1px 1px 1px 1px);clip: rect(1px, 1px, 1px, 1px);height: 1px;margin: -1px;overflow: hidden;padding: 0;position: absolute;width: 1px;}#sk-container-id-1 div.sk-estimator {font-family: monospace;background-color: #f0f8ff;border: 1px dotted black;border-radius: 0.25em;box-sizing: border-box;margin-bottom: 0.5em;}#sk-container-id-1 div.sk-estimator:hover {background-color: #d4ebff;}#sk-container-id-1 div.sk-parallel-item::after {content: \"\";width: 100%;border-bottom: 1px solid gray;flex-grow: 1;}#sk-container-id-1 div.sk-label:hover label.sk-toggleable__label {background-color: #d4ebff;}#sk-container-id-1 div.sk-serial::before {content: \"\";position: absolute;border-left: 1px solid gray;box-sizing: border-box;top: 0;bottom: 0;left: 50%;z-index: 0;}#sk-container-id-1 div.sk-serial {display: flex;flex-direction: column;align-items: center;background-color: white;padding-right: 0.2em;padding-left: 0.2em;position: relative;}#sk-container-id-1 div.sk-item {position: relative;z-index: 1;}#sk-container-id-1 div.sk-parallel {display: flex;align-items: stretch;justify-content: center;background-color: white;position: relative;}#sk-container-id-1 div.sk-item::before, #sk-container-id-1 div.sk-parallel-item::before {content: \"\";position: absolute;border-left: 1px solid gray;box-sizing: border-box;top: 0;bottom: 0;left: 50%;z-index: -1;}#sk-container-id-1 div.sk-parallel-item {display: flex;flex-direction: column;z-index: 1;position: relative;background-color: white;}#sk-container-id-1 div.sk-parallel-item:first-child::after {align-self: flex-end;width: 50%;}#sk-container-id-1 div.sk-parallel-item:last-child::after {align-self: flex-start;width: 50%;}#sk-container-id-1 div.sk-parallel-item:only-child::after {width: 0;}#sk-container-id-1 div.sk-dashed-wrapped {border: 1px dashed gray;margin: 0 0.4em 0.5em 0.4em;box-sizing: border-box;padding-bottom: 0.4em;background-color: white;}#sk-container-id-1 div.sk-label label {font-family: monospace;font-weight: bold;display: inline-block;line-height: 1.2em;}#sk-container-id-1 div.sk-label-container {text-align: center;}#sk-container-id-1 div.sk-container {/* jupyter's `normalize.less` sets `[hidden] { display: none; }` but bootstrap.min.css set `[hidden] { display: none !important; }` so we also need the `!important` here to be able to override the default hidden behavior on the sphinx rendered scikit-learn.org. See: https://github.com/scikit-learn/scikit-learn/issues/21755 */display: inline-block !important;position: relative;}#sk-container-id-1 div.sk-text-repr-fallback {display: none;}</style><div id=\"sk-container-id-1\" class=\"sk-top-container\"><div class=\"sk-text-repr-fallback\"><pre>DecisionTreeRegressor(random_state=42)</pre><b>In a Jupyter environment, please rerun this cell to show the HTML representation or trust the notebook. <br />On GitHub, the HTML representation is unable to render, please try loading this page with nbviewer.org.</b></div><div class=\"sk-container\" hidden><div class=\"sk-item\"><div class=\"sk-estimator sk-toggleable\"><input class=\"sk-toggleable__control sk-hidden--visually\" id=\"sk-estimator-id-1\" type=\"checkbox\" checked><label for=\"sk-estimator-id-1\" class=\"sk-toggleable__label sk-toggleable__label-arrow\">DecisionTreeRegressor</label><div class=\"sk-toggleable__content\"><pre>DecisionTreeRegressor(random_state=42)</pre></div></div></div></div></div>"
      ],
      "text/plain": [
       "DecisionTreeRegressor(random_state=42)"
      ]
     },
     "execution_count": 9,
     "metadata": {},
     "output_type": "execute_result"
    }
   ],
   "source": [
    "from sklearn.tree import DecisionTreeRegressor\n",
    "\n",
    "dt = DecisionTreeRegressor(random_state=42)\n",
    "dt.fit(X_train, y_train)"
   ]
  },
  {
   "cell_type": "code",
   "execution_count": 10,
   "id": "2997caaf",
   "metadata": {},
   "outputs": [],
   "source": [
    "predictions_dt = dt.predict(X_test)"
   ]
  },
  {
   "cell_type": "markdown",
   "id": "e7a85712",
   "metadata": {},
   "source": [
    "#### Random forest"
   ]
  },
  {
   "cell_type": "code",
   "execution_count": 11,
   "id": "1fa46dc3",
   "metadata": {},
   "outputs": [
    {
     "data": {
      "text/html": [
       "<style>#sk-container-id-2 {color: black;background-color: white;}#sk-container-id-2 pre{padding: 0;}#sk-container-id-2 div.sk-toggleable {background-color: white;}#sk-container-id-2 label.sk-toggleable__label {cursor: pointer;display: block;width: 100%;margin-bottom: 0;padding: 0.3em;box-sizing: border-box;text-align: center;}#sk-container-id-2 label.sk-toggleable__label-arrow:before {content: \"▸\";float: left;margin-right: 0.25em;color: #696969;}#sk-container-id-2 label.sk-toggleable__label-arrow:hover:before {color: black;}#sk-container-id-2 div.sk-estimator:hover label.sk-toggleable__label-arrow:before {color: black;}#sk-container-id-2 div.sk-toggleable__content {max-height: 0;max-width: 0;overflow: hidden;text-align: left;background-color: #f0f8ff;}#sk-container-id-2 div.sk-toggleable__content pre {margin: 0.2em;color: black;border-radius: 0.25em;background-color: #f0f8ff;}#sk-container-id-2 input.sk-toggleable__control:checked~div.sk-toggleable__content {max-height: 200px;max-width: 100%;overflow: auto;}#sk-container-id-2 input.sk-toggleable__control:checked~label.sk-toggleable__label-arrow:before {content: \"▾\";}#sk-container-id-2 div.sk-estimator input.sk-toggleable__control:checked~label.sk-toggleable__label {background-color: #d4ebff;}#sk-container-id-2 div.sk-label input.sk-toggleable__control:checked~label.sk-toggleable__label {background-color: #d4ebff;}#sk-container-id-2 input.sk-hidden--visually {border: 0;clip: rect(1px 1px 1px 1px);clip: rect(1px, 1px, 1px, 1px);height: 1px;margin: -1px;overflow: hidden;padding: 0;position: absolute;width: 1px;}#sk-container-id-2 div.sk-estimator {font-family: monospace;background-color: #f0f8ff;border: 1px dotted black;border-radius: 0.25em;box-sizing: border-box;margin-bottom: 0.5em;}#sk-container-id-2 div.sk-estimator:hover {background-color: #d4ebff;}#sk-container-id-2 div.sk-parallel-item::after {content: \"\";width: 100%;border-bottom: 1px solid gray;flex-grow: 1;}#sk-container-id-2 div.sk-label:hover label.sk-toggleable__label {background-color: #d4ebff;}#sk-container-id-2 div.sk-serial::before {content: \"\";position: absolute;border-left: 1px solid gray;box-sizing: border-box;top: 0;bottom: 0;left: 50%;z-index: 0;}#sk-container-id-2 div.sk-serial {display: flex;flex-direction: column;align-items: center;background-color: white;padding-right: 0.2em;padding-left: 0.2em;position: relative;}#sk-container-id-2 div.sk-item {position: relative;z-index: 1;}#sk-container-id-2 div.sk-parallel {display: flex;align-items: stretch;justify-content: center;background-color: white;position: relative;}#sk-container-id-2 div.sk-item::before, #sk-container-id-2 div.sk-parallel-item::before {content: \"\";position: absolute;border-left: 1px solid gray;box-sizing: border-box;top: 0;bottom: 0;left: 50%;z-index: -1;}#sk-container-id-2 div.sk-parallel-item {display: flex;flex-direction: column;z-index: 1;position: relative;background-color: white;}#sk-container-id-2 div.sk-parallel-item:first-child::after {align-self: flex-end;width: 50%;}#sk-container-id-2 div.sk-parallel-item:last-child::after {align-self: flex-start;width: 50%;}#sk-container-id-2 div.sk-parallel-item:only-child::after {width: 0;}#sk-container-id-2 div.sk-dashed-wrapped {border: 1px dashed gray;margin: 0 0.4em 0.5em 0.4em;box-sizing: border-box;padding-bottom: 0.4em;background-color: white;}#sk-container-id-2 div.sk-label label {font-family: monospace;font-weight: bold;display: inline-block;line-height: 1.2em;}#sk-container-id-2 div.sk-label-container {text-align: center;}#sk-container-id-2 div.sk-container {/* jupyter's `normalize.less` sets `[hidden] { display: none; }` but bootstrap.min.css set `[hidden] { display: none !important; }` so we also need the `!important` here to be able to override the default hidden behavior on the sphinx rendered scikit-learn.org. See: https://github.com/scikit-learn/scikit-learn/issues/21755 */display: inline-block !important;position: relative;}#sk-container-id-2 div.sk-text-repr-fallback {display: none;}</style><div id=\"sk-container-id-2\" class=\"sk-top-container\"><div class=\"sk-text-repr-fallback\"><pre>RandomForestRegressor(random_state=42)</pre><b>In a Jupyter environment, please rerun this cell to show the HTML representation or trust the notebook. <br />On GitHub, the HTML representation is unable to render, please try loading this page with nbviewer.org.</b></div><div class=\"sk-container\" hidden><div class=\"sk-item\"><div class=\"sk-estimator sk-toggleable\"><input class=\"sk-toggleable__control sk-hidden--visually\" id=\"sk-estimator-id-2\" type=\"checkbox\" checked><label for=\"sk-estimator-id-2\" class=\"sk-toggleable__label sk-toggleable__label-arrow\">RandomForestRegressor</label><div class=\"sk-toggleable__content\"><pre>RandomForestRegressor(random_state=42)</pre></div></div></div></div></div>"
      ],
      "text/plain": [
       "RandomForestRegressor(random_state=42)"
      ]
     },
     "execution_count": 11,
     "metadata": {},
     "output_type": "execute_result"
    }
   ],
   "source": [
    "from sklearn.ensemble import RandomForestRegressor\n",
    "\n",
    "rf = RandomForestRegressor(random_state=42)\n",
    "rf.fit(X_train, y_train)"
   ]
  },
  {
   "cell_type": "code",
   "execution_count": 12,
   "id": "6e8c36bb",
   "metadata": {},
   "outputs": [],
   "source": [
    "predictions_rf = rf.predict(X_test)"
   ]
  },
  {
   "cell_type": "markdown",
   "id": "cdc690ec",
   "metadata": {},
   "source": [
    "#### Exercici 2. Compara’ls en base al MSE (Mean Square Error) i al R2.\n",
    "\n",
    "- MSE (error quadràtic mitjà): És una funció de risc que mesura lo aprop que està una línia de regressió d'un conjunt de punts de dades. Ajuda a quantificar la precisió del model. És convenient utilitzar aquesta mesura si la variable objectiu està normalment distribuïda i es vol que els errors grans es penalitzin més que els petits.\n",
    "\n",
    "- R2 (coeficient de determinació): La puntuació R2 indica si el model és capaç d'explicar bé la variabilitat de la variable objectiu. Cal tenir en compte que si el R2 és molt alt pot ser indicatiu d'un sobreajustament, si no es compleixen altres assumpcions del model."
   ]
  },
  {
   "cell_type": "code",
   "execution_count": 32,
   "id": "50b9321a",
   "metadata": {},
   "outputs": [
    {
     "name": "stdout",
     "output_type": "stream",
     "text": [
      "MSE del Decision Tree Regressor: 20.870294117647052\n",
      "MSE del Random Forest: 10.2297485490196\n"
     ]
    }
   ],
   "source": [
    "from sklearn.metrics import mean_squared_error\n",
    "print('MSE del Decision Tree Regressor:', mean_squared_error(y_test, predictions_dt))\n",
    "print('MSE del Random Forest:', mean_squared_error(y_test, predictions_rf))"
   ]
  },
  {
   "cell_type": "markdown",
   "id": "6ec752a6",
   "metadata": {},
   "source": [
    "El model Random Forest té un MSE més petit que el Decision Tree Regression. Això ens indica que l'error del Random Forest és menor i, per tant, que té un millor rendiment predictiu. Dit d'una altra manera, el model Random Forest és més acurat a l'hora de fer les prediccions.\n",
    "\n",
    "Cal tenir en compte que el MSE es mesura en les unitats quadrades de la variable objectiu, és a dir, per obtenir una mesura en les mateixes unitats que la variable objectiu es podria utilitzar l'arrel quadrada de l'MSE."
   ]
  },
  {
   "cell_type": "code",
   "execution_count": 33,
   "id": "ed23ee7a",
   "metadata": {},
   "outputs": [
    {
     "name": "stdout",
     "output_type": "stream",
     "text": [
      "R2 del Decision Tree Regressor: 0.7154068259096871\n",
      "R2 del Random Forest: 0.8605042845443384\n"
     ]
    }
   ],
   "source": [
    "from sklearn.metrics import r2_score\n",
    "print('R2 del Decision Tree Regressor:', r2_score(y_test, predictions_dt))\n",
    "print('R2 del Random Forest:', r2_score(y_test, predictions_rf))"
   ]
  },
  {
   "cell_type": "markdown",
   "id": "4615e261",
   "metadata": {},
   "source": [
    "Els dos models tenen un R2 bastant pròxim a 1, el que vol dir que els dos semblen funcionar bé a l'hora d'explicar la variabilitat de la variable objectiu (MEDV). Els resultats indiquen que el model Decision Tree Regression explica el voltant del 71,54% de la variabilitat de la variable target, mentre que el model Random Forest és capaç d'explicar el 86,05%. Per tant, el segon és més capaç d'identificar patrons en el conjunt de dades."
   ]
  },
  {
   "cell_type": "markdown",
   "id": "4fc6db42",
   "metadata": {},
   "source": [
    "#### Exercici 3. Entrena’ls utilitzant els diferents paràmetres que admeten per intentar millorar-ne la predicció."
   ]
  },
  {
   "cell_type": "code",
   "execution_count": 34,
   "id": "24aa857f",
   "metadata": {},
   "outputs": [
    {
     "name": "stdout",
     "output_type": "stream",
     "text": [
      "Millors paràmetres pel  Decision Tree Regressor: {'max_depth': 5, 'min_samples_leaf': 8, 'min_samples_split': 2, 'random_state': 42}\n",
      "Millors paràmetres pel Random Forest: {'max_depth': None, 'min_samples_leaf': 2, 'min_samples_split': 2, 'n_estimators': 100, 'random_state': 42}\n"
     ]
    }
   ],
   "source": [
    "from sklearn.model_selection import GridSearchCV\n",
    "\n",
    "# Definició de la cuadrícula de paràmetres pel DecisionTreeRegressor\n",
    "param_grid_dt = {\n",
    "    'max_depth': [3, 5, 7, 10, None],\n",
    "    'min_samples_split': [2, 5, 10],\n",
    "    'min_samples_leaf': [1, 2, 4, 8],\n",
    "    'random_state': [42]\n",
    "}\n",
    "\n",
    "# Definició de la cuadrícula de paràmetres pel RandomForestRegressor\n",
    "param_grid_rf = {\n",
    "    'n_estimators': [50, 100, 200],\n",
    "    'max_depth': [3, 5, 7, 10, None],\n",
    "    'min_samples_split': [2, 5, 10],\n",
    "    'min_samples_leaf': [1, 2, 4, 8],\n",
    "    'random_state': [42]\n",
    "}\n",
    "\n",
    "dt_regressor = DecisionTreeRegressor()\n",
    "rf_regressor = RandomForestRegressor()\n",
    "\n",
    "# Ús del GridSearchCV per trobar els millors paràmetres pel DecisionTreeRegressor\n",
    "grid_search_dt = GridSearchCV(dt_regressor, param_grid_dt, cv=5, scoring='neg_mean_squared_error')\n",
    "grid_search_dt.fit(X_train, y_train)\n",
    "\n",
    "# Ús del GridSearchCV per trobar els millors paràmetres pel RandomForestRegressor\n",
    "grid_search_rf = GridSearchCV(rf_regressor, param_grid_rf, cv=5, scoring='neg_mean_squared_error')\n",
    "grid_search_rf.fit(X_train, y_train)\n",
    "\n",
    "print(\"Millors paràmetres pel  Decision Tree Regressor:\", grid_search_dt.best_params_)\n",
    "print(\"Millors paràmetres pel Random Forest:\", grid_search_rf.best_params_)"
   ]
  },
  {
   "cell_type": "code",
   "execution_count": 35,
   "id": "88f38267",
   "metadata": {},
   "outputs": [
    {
     "name": "stdout",
     "output_type": "stream",
     "text": [
      "MSE del nou  Decision Tree Regressor: 16.594428070848036\n",
      "R2 del nou Decision Tree Regressor: 0.773713732529397\n",
      "\n",
      "MSE del nou Random Forest: 11.738112006565098\n",
      "R2 del nou Random Forest: 0.8399358181085089\n"
     ]
    }
   ],
   "source": [
    "# Prediccions amb els nous models\n",
    "predictions_best_dt = grid_search_dt.predict(X_test)\n",
    "predictions_best_rf = grid_search_rf.predict(X_test)\n",
    "\n",
    "# Evaluació dels models\n",
    "print(\"MSE del nou  Decision Tree Regressor:\", mean_squared_error(y_test, predictions_best_dt))\n",
    "print('R2 del nou Decision Tree Regressor:', r2_score(y_test, predictions_best_dt))\n",
    "print(\"\\nMSE del nou Random Forest:\", mean_squared_error(y_test, predictions_best_rf))\n",
    "print('R2 del nou Random Forest:', r2_score(y_test, predictions_best_rf))"
   ]
  },
  {
   "cell_type": "markdown",
   "id": "9c86b285",
   "metadata": {},
   "source": [
    "Veiem que el rendiment del Decision Tree Regressor ha millorat, ha disminuït el MSE i ha augmentat el R2. En el case del Random Forest, el rendiment ha empitjorat, doncs ha augmentat el MSE i ha disminuït el r2."
   ]
  },
  {
   "cell_type": "markdown",
   "id": "c89e04e1",
   "metadata": {},
   "source": [
    "#### Exercici 4. Compara el seu rendiment emprant l’aproximació traint/test o emprant totes les dades (validació interna)."
   ]
  },
  {
   "cell_type": "code",
   "execution_count": 36,
   "id": "64dd387e",
   "metadata": {},
   "outputs": [
    {
     "name": "stdout",
     "output_type": "stream",
     "text": [
      "MSE del Decision Tree Regressor amb CV: 22.20947835371772\n",
      "R2 del Decision Tree Regressor amb CV: 0.7369583190548619\n",
      "\n",
      "MSE del Random Forest amb CV: 12.637621859813626\n",
      "R2 del Random Forest amb CV: 0.8496496800249533\n"
     ]
    }
   ],
   "source": [
    "from sklearn.model_selection import cross_val_score\n",
    "from sklearn.metrics import make_scorer\n",
    "\n",
    "#Variables X i y del conjunt (ja que fins ara teniem els Train i Test sets)\n",
    "X = pd.concat([X_train, X_test])\n",
    "y = pd.concat([y_train, y_test])\n",
    "\n",
    "scorer_r2 = make_scorer(r2_score)\n",
    "\n",
    "# DecisionTreeRegressor\n",
    "dt_cv = DecisionTreeRegressor(random_state=42)\n",
    "dt_scores = cross_val_score(dt_cv, X, y, cv=5, scoring='neg_mean_squared_error')\n",
    "dt_mse_scores = -dt_scores\n",
    "dt_r2_scores = cross_val_score(dt_cv, X, y, cv=5, scoring=scorer_r2)\n",
    "\n",
    "# Random Forest Regressor\n",
    "rf_cv = RandomForestRegressor(random_state=42)\n",
    "rf_scores = cross_val_score(rf_cv, X, y, cv=5, scoring='neg_mean_squared_error')\n",
    "rf_mse_scores = -rf_scores \n",
    "rf_r2_scores = cross_val_score(rf_cv, X, y, cv=5, scoring=scorer_r2)\n",
    "\n",
    "print(\"MSE del Decision Tree Regressor amb CV:\", np.mean(dt_mse_scores))\n",
    "print(\"R2 del Decision Tree Regressor amb CV:\", np.mean(dt_r2_scores))\n",
    "print(\"\\nMSE del Random Forest amb CV:\", np.mean(rf_mse_scores))\n",
    "print(\"R2 del Random Forest amb CV:\", np.mean(rf_r2_scores))"
   ]
  },
  {
   "cell_type": "markdown",
   "id": "f295470b",
   "metadata": {},
   "source": [
    "Si comparem els resultats amb l'exercici anterior, veiem que en ambdós casos el MSE ha augmentat, el que vol dir que ha augmentat l'error del model i, per tant, ha disminuït el seu rendiment. \n",
    "En canvi, pel que fa al R2, veiem que en el cas del Decision Treee ha disminuït del 77,37% al 73,7%, i en el cas del Random Forest ha augmentat del 84% al 84,97%. Tot i així, els canvis són poc significatius. "
   ]
  },
  {
   "cell_type": "markdown",
   "id": "5210b4f4",
   "metadata": {},
   "source": [
    "#### Exercici 5. No facis servir la variable del nombre d'habitacions (RM) a l’hora de fer prediccions."
   ]
  },
  {
   "cell_type": "code",
   "execution_count": 25,
   "id": "3fd54da1",
   "metadata": {},
   "outputs": [],
   "source": [
    "X_no_rm = X.drop(['RM'], axis=1) "
   ]
  },
  {
   "cell_type": "code",
   "execution_count": 26,
   "id": "43797039",
   "metadata": {},
   "outputs": [
    {
     "name": "stdout",
     "output_type": "stream",
     "text": [
      "Forma del Training set: X=(404, 18), y=(404,)\n",
      "Forma del Test set: X=(102, 18), y=(102,)\n"
     ]
    }
   ],
   "source": [
    "from sklearn.model_selection import train_test_split\n",
    "X_train_no_rm, X_test_no_rm, y_train_no_rm, y_test_no_rm = train_test_split(X_no_rm, y, test_size=0.2, random_state=42)\n",
    "\n",
    "print('Forma del Training set: X={}, y={}'.format(X_train_no_rm.shape, y_train_no_rm.shape))\n",
    "print('Forma del Test set: X={}, y={}'.format(X_test_no_rm.shape, y_test_no_rm.shape))"
   ]
  },
  {
   "cell_type": "code",
   "execution_count": 27,
   "id": "befe0fa1",
   "metadata": {},
   "outputs": [
    {
     "data": {
      "text/html": [
       "<style>#sk-container-id-3 {color: black;background-color: white;}#sk-container-id-3 pre{padding: 0;}#sk-container-id-3 div.sk-toggleable {background-color: white;}#sk-container-id-3 label.sk-toggleable__label {cursor: pointer;display: block;width: 100%;margin-bottom: 0;padding: 0.3em;box-sizing: border-box;text-align: center;}#sk-container-id-3 label.sk-toggleable__label-arrow:before {content: \"▸\";float: left;margin-right: 0.25em;color: #696969;}#sk-container-id-3 label.sk-toggleable__label-arrow:hover:before {color: black;}#sk-container-id-3 div.sk-estimator:hover label.sk-toggleable__label-arrow:before {color: black;}#sk-container-id-3 div.sk-toggleable__content {max-height: 0;max-width: 0;overflow: hidden;text-align: left;background-color: #f0f8ff;}#sk-container-id-3 div.sk-toggleable__content pre {margin: 0.2em;color: black;border-radius: 0.25em;background-color: #f0f8ff;}#sk-container-id-3 input.sk-toggleable__control:checked~div.sk-toggleable__content {max-height: 200px;max-width: 100%;overflow: auto;}#sk-container-id-3 input.sk-toggleable__control:checked~label.sk-toggleable__label-arrow:before {content: \"▾\";}#sk-container-id-3 div.sk-estimator input.sk-toggleable__control:checked~label.sk-toggleable__label {background-color: #d4ebff;}#sk-container-id-3 div.sk-label input.sk-toggleable__control:checked~label.sk-toggleable__label {background-color: #d4ebff;}#sk-container-id-3 input.sk-hidden--visually {border: 0;clip: rect(1px 1px 1px 1px);clip: rect(1px, 1px, 1px, 1px);height: 1px;margin: -1px;overflow: hidden;padding: 0;position: absolute;width: 1px;}#sk-container-id-3 div.sk-estimator {font-family: monospace;background-color: #f0f8ff;border: 1px dotted black;border-radius: 0.25em;box-sizing: border-box;margin-bottom: 0.5em;}#sk-container-id-3 div.sk-estimator:hover {background-color: #d4ebff;}#sk-container-id-3 div.sk-parallel-item::after {content: \"\";width: 100%;border-bottom: 1px solid gray;flex-grow: 1;}#sk-container-id-3 div.sk-label:hover label.sk-toggleable__label {background-color: #d4ebff;}#sk-container-id-3 div.sk-serial::before {content: \"\";position: absolute;border-left: 1px solid gray;box-sizing: border-box;top: 0;bottom: 0;left: 50%;z-index: 0;}#sk-container-id-3 div.sk-serial {display: flex;flex-direction: column;align-items: center;background-color: white;padding-right: 0.2em;padding-left: 0.2em;position: relative;}#sk-container-id-3 div.sk-item {position: relative;z-index: 1;}#sk-container-id-3 div.sk-parallel {display: flex;align-items: stretch;justify-content: center;background-color: white;position: relative;}#sk-container-id-3 div.sk-item::before, #sk-container-id-3 div.sk-parallel-item::before {content: \"\";position: absolute;border-left: 1px solid gray;box-sizing: border-box;top: 0;bottom: 0;left: 50%;z-index: -1;}#sk-container-id-3 div.sk-parallel-item {display: flex;flex-direction: column;z-index: 1;position: relative;background-color: white;}#sk-container-id-3 div.sk-parallel-item:first-child::after {align-self: flex-end;width: 50%;}#sk-container-id-3 div.sk-parallel-item:last-child::after {align-self: flex-start;width: 50%;}#sk-container-id-3 div.sk-parallel-item:only-child::after {width: 0;}#sk-container-id-3 div.sk-dashed-wrapped {border: 1px dashed gray;margin: 0 0.4em 0.5em 0.4em;box-sizing: border-box;padding-bottom: 0.4em;background-color: white;}#sk-container-id-3 div.sk-label label {font-family: monospace;font-weight: bold;display: inline-block;line-height: 1.2em;}#sk-container-id-3 div.sk-label-container {text-align: center;}#sk-container-id-3 div.sk-container {/* jupyter's `normalize.less` sets `[hidden] { display: none; }` but bootstrap.min.css set `[hidden] { display: none !important; }` so we also need the `!important` here to be able to override the default hidden behavior on the sphinx rendered scikit-learn.org. See: https://github.com/scikit-learn/scikit-learn/issues/21755 */display: inline-block !important;position: relative;}#sk-container-id-3 div.sk-text-repr-fallback {display: none;}</style><div id=\"sk-container-id-3\" class=\"sk-top-container\"><div class=\"sk-text-repr-fallback\"><pre>DecisionTreeRegressor(random_state=42)</pre><b>In a Jupyter environment, please rerun this cell to show the HTML representation or trust the notebook. <br />On GitHub, the HTML representation is unable to render, please try loading this page with nbviewer.org.</b></div><div class=\"sk-container\" hidden><div class=\"sk-item\"><div class=\"sk-estimator sk-toggleable\"><input class=\"sk-toggleable__control sk-hidden--visually\" id=\"sk-estimator-id-3\" type=\"checkbox\" checked><label for=\"sk-estimator-id-3\" class=\"sk-toggleable__label sk-toggleable__label-arrow\">DecisionTreeRegressor</label><div class=\"sk-toggleable__content\"><pre>DecisionTreeRegressor(random_state=42)</pre></div></div></div></div></div>"
      ],
      "text/plain": [
       "DecisionTreeRegressor(random_state=42)"
      ]
     },
     "execution_count": 27,
     "metadata": {},
     "output_type": "execute_result"
    }
   ],
   "source": [
    "#Decision Tree Regressor\n",
    "dt_no_rm = DecisionTreeRegressor(random_state=42)\n",
    "dt_no_rm.fit(X_train_no_rm, y_train_no_rm)"
   ]
  },
  {
   "cell_type": "code",
   "execution_count": 28,
   "id": "98c97edf",
   "metadata": {},
   "outputs": [],
   "source": [
    "predictions_dt_no_rm = dt_no_rm.predict(X_test_no_rm)"
   ]
  },
  {
   "cell_type": "code",
   "execution_count": 29,
   "id": "c35d5e73",
   "metadata": {},
   "outputs": [
    {
     "data": {
      "text/html": [
       "<style>#sk-container-id-4 {color: black;background-color: white;}#sk-container-id-4 pre{padding: 0;}#sk-container-id-4 div.sk-toggleable {background-color: white;}#sk-container-id-4 label.sk-toggleable__label {cursor: pointer;display: block;width: 100%;margin-bottom: 0;padding: 0.3em;box-sizing: border-box;text-align: center;}#sk-container-id-4 label.sk-toggleable__label-arrow:before {content: \"▸\";float: left;margin-right: 0.25em;color: #696969;}#sk-container-id-4 label.sk-toggleable__label-arrow:hover:before {color: black;}#sk-container-id-4 div.sk-estimator:hover label.sk-toggleable__label-arrow:before {color: black;}#sk-container-id-4 div.sk-toggleable__content {max-height: 0;max-width: 0;overflow: hidden;text-align: left;background-color: #f0f8ff;}#sk-container-id-4 div.sk-toggleable__content pre {margin: 0.2em;color: black;border-radius: 0.25em;background-color: #f0f8ff;}#sk-container-id-4 input.sk-toggleable__control:checked~div.sk-toggleable__content {max-height: 200px;max-width: 100%;overflow: auto;}#sk-container-id-4 input.sk-toggleable__control:checked~label.sk-toggleable__label-arrow:before {content: \"▾\";}#sk-container-id-4 div.sk-estimator input.sk-toggleable__control:checked~label.sk-toggleable__label {background-color: #d4ebff;}#sk-container-id-4 div.sk-label input.sk-toggleable__control:checked~label.sk-toggleable__label {background-color: #d4ebff;}#sk-container-id-4 input.sk-hidden--visually {border: 0;clip: rect(1px 1px 1px 1px);clip: rect(1px, 1px, 1px, 1px);height: 1px;margin: -1px;overflow: hidden;padding: 0;position: absolute;width: 1px;}#sk-container-id-4 div.sk-estimator {font-family: monospace;background-color: #f0f8ff;border: 1px dotted black;border-radius: 0.25em;box-sizing: border-box;margin-bottom: 0.5em;}#sk-container-id-4 div.sk-estimator:hover {background-color: #d4ebff;}#sk-container-id-4 div.sk-parallel-item::after {content: \"\";width: 100%;border-bottom: 1px solid gray;flex-grow: 1;}#sk-container-id-4 div.sk-label:hover label.sk-toggleable__label {background-color: #d4ebff;}#sk-container-id-4 div.sk-serial::before {content: \"\";position: absolute;border-left: 1px solid gray;box-sizing: border-box;top: 0;bottom: 0;left: 50%;z-index: 0;}#sk-container-id-4 div.sk-serial {display: flex;flex-direction: column;align-items: center;background-color: white;padding-right: 0.2em;padding-left: 0.2em;position: relative;}#sk-container-id-4 div.sk-item {position: relative;z-index: 1;}#sk-container-id-4 div.sk-parallel {display: flex;align-items: stretch;justify-content: center;background-color: white;position: relative;}#sk-container-id-4 div.sk-item::before, #sk-container-id-4 div.sk-parallel-item::before {content: \"\";position: absolute;border-left: 1px solid gray;box-sizing: border-box;top: 0;bottom: 0;left: 50%;z-index: -1;}#sk-container-id-4 div.sk-parallel-item {display: flex;flex-direction: column;z-index: 1;position: relative;background-color: white;}#sk-container-id-4 div.sk-parallel-item:first-child::after {align-self: flex-end;width: 50%;}#sk-container-id-4 div.sk-parallel-item:last-child::after {align-self: flex-start;width: 50%;}#sk-container-id-4 div.sk-parallel-item:only-child::after {width: 0;}#sk-container-id-4 div.sk-dashed-wrapped {border: 1px dashed gray;margin: 0 0.4em 0.5em 0.4em;box-sizing: border-box;padding-bottom: 0.4em;background-color: white;}#sk-container-id-4 div.sk-label label {font-family: monospace;font-weight: bold;display: inline-block;line-height: 1.2em;}#sk-container-id-4 div.sk-label-container {text-align: center;}#sk-container-id-4 div.sk-container {/* jupyter's `normalize.less` sets `[hidden] { display: none; }` but bootstrap.min.css set `[hidden] { display: none !important; }` so we also need the `!important` here to be able to override the default hidden behavior on the sphinx rendered scikit-learn.org. See: https://github.com/scikit-learn/scikit-learn/issues/21755 */display: inline-block !important;position: relative;}#sk-container-id-4 div.sk-text-repr-fallback {display: none;}</style><div id=\"sk-container-id-4\" class=\"sk-top-container\"><div class=\"sk-text-repr-fallback\"><pre>RandomForestRegressor(random_state=42)</pre><b>In a Jupyter environment, please rerun this cell to show the HTML representation or trust the notebook. <br />On GitHub, the HTML representation is unable to render, please try loading this page with nbviewer.org.</b></div><div class=\"sk-container\" hidden><div class=\"sk-item\"><div class=\"sk-estimator sk-toggleable\"><input class=\"sk-toggleable__control sk-hidden--visually\" id=\"sk-estimator-id-4\" type=\"checkbox\" checked><label for=\"sk-estimator-id-4\" class=\"sk-toggleable__label sk-toggleable__label-arrow\">RandomForestRegressor</label><div class=\"sk-toggleable__content\"><pre>RandomForestRegressor(random_state=42)</pre></div></div></div></div></div>"
      ],
      "text/plain": [
       "RandomForestRegressor(random_state=42)"
      ]
     },
     "execution_count": 29,
     "metadata": {},
     "output_type": "execute_result"
    }
   ],
   "source": [
    "#Random Forest\n",
    "rf_no_rm = RandomForestRegressor(random_state=42)\n",
    "rf_no_rm.fit(X_train_no_rm, y_train_no_rm)"
   ]
  },
  {
   "cell_type": "code",
   "execution_count": 30,
   "id": "27257e84",
   "metadata": {},
   "outputs": [],
   "source": [
    "predictions_rf_no_rm = rf_no_rm.predict(X_test_no_rm)"
   ]
  },
  {
   "cell_type": "code",
   "execution_count": 37,
   "id": "fd3a6954",
   "metadata": {},
   "outputs": [
    {
     "name": "stdout",
     "output_type": "stream",
     "text": [
      "MSE del Decision Tree Regressor sense RM: 37.923725490196084\n",
      "R2 del Decision Tree Regressor sense RM: 0.6355729026101308\n",
      "\n",
      "MSE del Random Forest sense RM: 30.054735480392168\n",
      "R2 del Random Forest sense RM: 0.711189766501946\n"
     ]
    }
   ],
   "source": [
    "#Avaluació dels models\n",
    "print('MSE del Decision Tree Regressor sense RM:', mean_squared_error(y_test_no_rm, predictions_dt_no_rm))\n",
    "print('R2 del Decision Tree Regressor sense RM:', r2_score(y_test_no_rm, predictions_dt_no_rm))\n",
    "print('\\nMSE del Random Forest sense RM:', mean_squared_error(y_test_no_rm, predictions_rf_no_rm))\n",
    "print('R2 del Random Forest sense RM:', r2_score(y_test_no_rm, predictions_rf_no_rm))"
   ]
  },
  {
   "cell_type": "markdown",
   "id": "441bf499",
   "metadata": {},
   "source": [
    "Si comparem els resultats amb els de l'exercici 3, veiem que el rendiment dels models ha empitjorat considerablement. D'una banda, el MSE ha augmentat en els dos casos, de 16.59 a 37.92 en el Decision Tree i de 11.73 a 30.05 en el Random Forest. I, de l'altra, el R2 ha disminuït; de 0.77 a 0.64 pel primer i de 0.84 a 0.71 pel segon.\n",
    "\n",
    "Per tant, veiem que quan eliminem la variable del nombre d'habitacions, RM, obtenim un major error i, per tant, un pitjor rendiment."
   ]
  }
 ],
 "metadata": {
  "kernelspec": {
   "display_name": "Python 3 (ipykernel)",
   "language": "python",
   "name": "python3"
  },
  "language_info": {
   "codemirror_mode": {
    "name": "ipython",
    "version": 3
   },
   "file_extension": ".py",
   "mimetype": "text/x-python",
   "name": "python",
   "nbconvert_exporter": "python",
   "pygments_lexer": "ipython3",
   "version": "3.10.9"
  }
 },
 "nbformat": 4,
 "nbformat_minor": 5
}
