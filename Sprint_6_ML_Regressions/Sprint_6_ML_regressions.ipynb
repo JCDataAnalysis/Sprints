{
 "cells": [
  {
   "cell_type": "markdown",
   "id": "79fd07f8",
   "metadata": {},
   "source": [
    "#### Exercici 1. Crea almenys dos models de regressió diferents per intentar predir el millor possible el preu de les vivendes (MEDV) de l'arxiu adjunt."
   ]
  },
  {
   "cell_type": "markdown",
   "id": "85db8b09",
   "metadata": {},
   "source": [
    "NOTA: Partim del dataset que ha estat netejat i transformat en el Sprint 5."
   ]
  },
  {
   "cell_type": "code",
   "execution_count": 1,
   "id": "370d9399",
   "metadata": {},
   "outputs": [],
   "source": [
    "import numpy as np\n",
    "import pandas as pd\n",
    "import seaborn as sns\n",
    "import matplotlib.pyplot as plt"
   ]
  },
  {
   "cell_type": "code",
   "execution_count": 2,
   "id": "29fe4c59",
   "metadata": {},
   "outputs": [
    {
     "data": {
      "text/html": [
       "<div>\n",
       "<style scoped>\n",
       "    .dataframe tbody tr th:only-of-type {\n",
       "        vertical-align: middle;\n",
       "    }\n",
       "\n",
       "    .dataframe tbody tr th {\n",
       "        vertical-align: top;\n",
       "    }\n",
       "\n",
       "    .dataframe thead th {\n",
       "        text-align: right;\n",
       "    }\n",
       "</style>\n",
       "<table border=\"1\" class=\"dataframe\">\n",
       "  <thead>\n",
       "    <tr style=\"text-align: right;\">\n",
       "      <th></th>\n",
       "      <th>Unnamed: 0</th>\n",
       "      <th>CRIM</th>\n",
       "      <th>ZN</th>\n",
       "      <th>INDUS</th>\n",
       "      <th>NOX</th>\n",
       "      <th>RM</th>\n",
       "      <th>AGE</th>\n",
       "      <th>DIS</th>\n",
       "      <th>TAX</th>\n",
       "      <th>PTRATIO</th>\n",
       "      <th>...</th>\n",
       "      <th>RAD_1</th>\n",
       "      <th>RAD_2</th>\n",
       "      <th>RAD_24</th>\n",
       "      <th>RAD_3</th>\n",
       "      <th>RAD_4</th>\n",
       "      <th>RAD_5</th>\n",
       "      <th>RAD_6</th>\n",
       "      <th>RAD_7</th>\n",
       "      <th>RAD_8</th>\n",
       "      <th>MEDV</th>\n",
       "    </tr>\n",
       "  </thead>\n",
       "  <tbody>\n",
       "    <tr>\n",
       "      <th>0</th>\n",
       "      <td>0</td>\n",
       "      <td>-0.069593</td>\n",
       "      <td>1.44</td>\n",
       "      <td>-0.571650</td>\n",
       "      <td>0.000000</td>\n",
       "      <td>0.496612</td>\n",
       "      <td>-0.250765</td>\n",
       "      <td>0.285777</td>\n",
       "      <td>-0.087855</td>\n",
       "      <td>-1.339286</td>\n",
       "      <td>...</td>\n",
       "      <td>1</td>\n",
       "      <td>0</td>\n",
       "      <td>0</td>\n",
       "      <td>0</td>\n",
       "      <td>0</td>\n",
       "      <td>0</td>\n",
       "      <td>0</td>\n",
       "      <td>0</td>\n",
       "      <td>0</td>\n",
       "      <td>24.0</td>\n",
       "    </tr>\n",
       "    <tr>\n",
       "      <th>1</th>\n",
       "      <td>1</td>\n",
       "      <td>-0.063755</td>\n",
       "      <td>0.00</td>\n",
       "      <td>-0.202943</td>\n",
       "      <td>-0.394286</td>\n",
       "      <td>0.287940</td>\n",
       "      <td>0.028542</td>\n",
       "      <td>0.569789</td>\n",
       "      <td>-0.227390</td>\n",
       "      <td>-0.446429</td>\n",
       "      <td>...</td>\n",
       "      <td>0</td>\n",
       "      <td>1</td>\n",
       "      <td>0</td>\n",
       "      <td>0</td>\n",
       "      <td>0</td>\n",
       "      <td>0</td>\n",
       "      <td>0</td>\n",
       "      <td>0</td>\n",
       "      <td>0</td>\n",
       "      <td>21.6</td>\n",
       "    </tr>\n",
       "    <tr>\n",
       "      <th>2</th>\n",
       "      <td>2</td>\n",
       "      <td>-0.063760</td>\n",
       "      <td>0.00</td>\n",
       "      <td>-0.202943</td>\n",
       "      <td>-0.394286</td>\n",
       "      <td>1.323171</td>\n",
       "      <td>-0.334353</td>\n",
       "      <td>0.569789</td>\n",
       "      <td>-0.227390</td>\n",
       "      <td>-0.446429</td>\n",
       "      <td>...</td>\n",
       "      <td>0</td>\n",
       "      <td>1</td>\n",
       "      <td>0</td>\n",
       "      <td>0</td>\n",
       "      <td>0</td>\n",
       "      <td>0</td>\n",
       "      <td>0</td>\n",
       "      <td>0</td>\n",
       "      <td>0</td>\n",
       "      <td>34.7</td>\n",
       "    </tr>\n",
       "    <tr>\n",
       "      <th>3</th>\n",
       "      <td>3</td>\n",
       "      <td>-0.062347</td>\n",
       "      <td>0.00</td>\n",
       "      <td>-0.581720</td>\n",
       "      <td>-0.457143</td>\n",
       "      <td>1.069783</td>\n",
       "      <td>-0.646279</td>\n",
       "      <td>0.924391</td>\n",
       "      <td>-0.279070</td>\n",
       "      <td>-0.125000</td>\n",
       "      <td>...</td>\n",
       "      <td>0</td>\n",
       "      <td>0</td>\n",
       "      <td>0</td>\n",
       "      <td>1</td>\n",
       "      <td>0</td>\n",
       "      <td>0</td>\n",
       "      <td>0</td>\n",
       "      <td>0</td>\n",
       "      <td>0</td>\n",
       "      <td>33.4</td>\n",
       "    </tr>\n",
       "    <tr>\n",
       "      <th>4</th>\n",
       "      <td>4</td>\n",
       "      <td>-0.052144</td>\n",
       "      <td>0.00</td>\n",
       "      <td>-0.581720</td>\n",
       "      <td>-0.457143</td>\n",
       "      <td>1.271680</td>\n",
       "      <td>-0.475025</td>\n",
       "      <td>0.924391</td>\n",
       "      <td>-0.279070</td>\n",
       "      <td>-0.125000</td>\n",
       "      <td>...</td>\n",
       "      <td>0</td>\n",
       "      <td>0</td>\n",
       "      <td>0</td>\n",
       "      <td>1</td>\n",
       "      <td>0</td>\n",
       "      <td>0</td>\n",
       "      <td>0</td>\n",
       "      <td>0</td>\n",
       "      <td>0</td>\n",
       "      <td>36.2</td>\n",
       "    </tr>\n",
       "  </tbody>\n",
       "</table>\n",
       "<p>5 rows × 23 columns</p>\n",
       "</div>"
      ],
      "text/plain": [
       "   Unnamed: 0      CRIM    ZN     INDUS       NOX        RM       AGE  \\\n",
       "0           0 -0.069593  1.44 -0.571650  0.000000  0.496612 -0.250765   \n",
       "1           1 -0.063755  0.00 -0.202943 -0.394286  0.287940  0.028542   \n",
       "2           2 -0.063760  0.00 -0.202943 -0.394286  1.323171 -0.334353   \n",
       "3           3 -0.062347  0.00 -0.581720 -0.457143  1.069783 -0.646279   \n",
       "4           4 -0.052144  0.00 -0.581720 -0.457143  1.271680 -0.475025   \n",
       "\n",
       "        DIS       TAX   PTRATIO  ...  RAD_1  RAD_2  RAD_24  RAD_3  RAD_4  \\\n",
       "0  0.285777 -0.087855 -1.339286  ...      1      0       0      0      0   \n",
       "1  0.569789 -0.227390 -0.446429  ...      0      1       0      0      0   \n",
       "2  0.569789 -0.227390 -0.446429  ...      0      1       0      0      0   \n",
       "3  0.924391 -0.279070 -0.125000  ...      0      0       0      1      0   \n",
       "4  0.924391 -0.279070 -0.125000  ...      0      0       0      1      0   \n",
       "\n",
       "   RAD_5  RAD_6  RAD_7  RAD_8  MEDV  \n",
       "0      0      0      0      0  24.0  \n",
       "1      0      0      0      0  21.6  \n",
       "2      0      0      0      0  34.7  \n",
       "3      0      0      0      0  33.4  \n",
       "4      0      0      0      0  36.2  \n",
       "\n",
       "[5 rows x 23 columns]"
      ]
     },
     "execution_count": 2,
     "metadata": {},
     "output_type": "execute_result"
    }
   ],
   "source": [
    "housing_ML = pd.read_excel('/Users/juliacorominasfont/Desktop/DATA ANALYST/Bootcamp IT Academy/Tasques Sprints/Sprint_6_ML_Regressions/housing_prepared.xlsx')\n",
    "housing_ML.head(5)"
   ]
  },
  {
   "cell_type": "code",
   "execution_count": 3,
   "id": "e5bc774d",
   "metadata": {},
   "outputs": [
    {
     "data": {
      "text/html": [
       "<div>\n",
       "<style scoped>\n",
       "    .dataframe tbody tr th:only-of-type {\n",
       "        vertical-align: middle;\n",
       "    }\n",
       "\n",
       "    .dataframe tbody tr th {\n",
       "        vertical-align: top;\n",
       "    }\n",
       "\n",
       "    .dataframe thead th {\n",
       "        text-align: right;\n",
       "    }\n",
       "</style>\n",
       "<table border=\"1\" class=\"dataframe\">\n",
       "  <thead>\n",
       "    <tr style=\"text-align: right;\">\n",
       "      <th></th>\n",
       "      <th>CRIM</th>\n",
       "      <th>ZN</th>\n",
       "      <th>INDUS</th>\n",
       "      <th>NOX</th>\n",
       "      <th>RM</th>\n",
       "      <th>AGE</th>\n",
       "      <th>DIS</th>\n",
       "      <th>TAX</th>\n",
       "      <th>PTRATIO</th>\n",
       "      <th>B</th>\n",
       "      <th>...</th>\n",
       "      <th>RAD_1</th>\n",
       "      <th>RAD_2</th>\n",
       "      <th>RAD_24</th>\n",
       "      <th>RAD_3</th>\n",
       "      <th>RAD_4</th>\n",
       "      <th>RAD_5</th>\n",
       "      <th>RAD_6</th>\n",
       "      <th>RAD_7</th>\n",
       "      <th>RAD_8</th>\n",
       "      <th>MEDV</th>\n",
       "    </tr>\n",
       "  </thead>\n",
       "  <tbody>\n",
       "    <tr>\n",
       "      <th>0</th>\n",
       "      <td>-0.069593</td>\n",
       "      <td>1.44</td>\n",
       "      <td>-0.571650</td>\n",
       "      <td>0.000000</td>\n",
       "      <td>0.496612</td>\n",
       "      <td>-0.250765</td>\n",
       "      <td>0.285777</td>\n",
       "      <td>-0.087855</td>\n",
       "      <td>-1.339286</td>\n",
       "      <td>0.261902</td>\n",
       "      <td>...</td>\n",
       "      <td>1</td>\n",
       "      <td>0</td>\n",
       "      <td>0</td>\n",
       "      <td>0</td>\n",
       "      <td>0</td>\n",
       "      <td>0</td>\n",
       "      <td>0</td>\n",
       "      <td>0</td>\n",
       "      <td>0</td>\n",
       "      <td>24.0</td>\n",
       "    </tr>\n",
       "    <tr>\n",
       "      <th>1</th>\n",
       "      <td>-0.063755</td>\n",
       "      <td>0.00</td>\n",
       "      <td>-0.202943</td>\n",
       "      <td>-0.394286</td>\n",
       "      <td>0.287940</td>\n",
       "      <td>0.028542</td>\n",
       "      <td>0.569789</td>\n",
       "      <td>-0.227390</td>\n",
       "      <td>-0.446429</td>\n",
       "      <td>0.261902</td>\n",
       "      <td>...</td>\n",
       "      <td>0</td>\n",
       "      <td>1</td>\n",
       "      <td>0</td>\n",
       "      <td>0</td>\n",
       "      <td>0</td>\n",
       "      <td>0</td>\n",
       "      <td>0</td>\n",
       "      <td>0</td>\n",
       "      <td>0</td>\n",
       "      <td>21.6</td>\n",
       "    </tr>\n",
       "    <tr>\n",
       "      <th>2</th>\n",
       "      <td>-0.063760</td>\n",
       "      <td>0.00</td>\n",
       "      <td>-0.202943</td>\n",
       "      <td>-0.394286</td>\n",
       "      <td>1.323171</td>\n",
       "      <td>-0.334353</td>\n",
       "      <td>0.569789</td>\n",
       "      <td>-0.227390</td>\n",
       "      <td>-0.446429</td>\n",
       "      <td>0.066675</td>\n",
       "      <td>...</td>\n",
       "      <td>0</td>\n",
       "      <td>1</td>\n",
       "      <td>0</td>\n",
       "      <td>0</td>\n",
       "      <td>0</td>\n",
       "      <td>0</td>\n",
       "      <td>0</td>\n",
       "      <td>0</td>\n",
       "      <td>0</td>\n",
       "      <td>34.7</td>\n",
       "    </tr>\n",
       "    <tr>\n",
       "      <th>3</th>\n",
       "      <td>-0.062347</td>\n",
       "      <td>0.00</td>\n",
       "      <td>-0.581720</td>\n",
       "      <td>-0.457143</td>\n",
       "      <td>1.069783</td>\n",
       "      <td>-0.646279</td>\n",
       "      <td>0.924391</td>\n",
       "      <td>-0.279070</td>\n",
       "      <td>-0.125000</td>\n",
       "      <td>0.153016</td>\n",
       "      <td>...</td>\n",
       "      <td>0</td>\n",
       "      <td>0</td>\n",
       "      <td>0</td>\n",
       "      <td>1</td>\n",
       "      <td>0</td>\n",
       "      <td>0</td>\n",
       "      <td>0</td>\n",
       "      <td>0</td>\n",
       "      <td>0</td>\n",
       "      <td>33.4</td>\n",
       "    </tr>\n",
       "    <tr>\n",
       "      <th>4</th>\n",
       "      <td>-0.052144</td>\n",
       "      <td>0.00</td>\n",
       "      <td>-0.581720</td>\n",
       "      <td>-0.457143</td>\n",
       "      <td>1.271680</td>\n",
       "      <td>-0.475025</td>\n",
       "      <td>0.924391</td>\n",
       "      <td>-0.279070</td>\n",
       "      <td>-0.125000</td>\n",
       "      <td>0.261902</td>\n",
       "      <td>...</td>\n",
       "      <td>0</td>\n",
       "      <td>0</td>\n",
       "      <td>0</td>\n",
       "      <td>1</td>\n",
       "      <td>0</td>\n",
       "      <td>0</td>\n",
       "      <td>0</td>\n",
       "      <td>0</td>\n",
       "      <td>0</td>\n",
       "      <td>36.2</td>\n",
       "    </tr>\n",
       "  </tbody>\n",
       "</table>\n",
       "<p>5 rows × 22 columns</p>\n",
       "</div>"
      ],
      "text/plain": [
       "       CRIM    ZN     INDUS       NOX        RM       AGE       DIS       TAX  \\\n",
       "0 -0.069593  1.44 -0.571650  0.000000  0.496612 -0.250765  0.285777 -0.087855   \n",
       "1 -0.063755  0.00 -0.202943 -0.394286  0.287940  0.028542  0.569789 -0.227390   \n",
       "2 -0.063760  0.00 -0.202943 -0.394286  1.323171 -0.334353  0.569789 -0.227390   \n",
       "3 -0.062347  0.00 -0.581720 -0.457143  1.069783 -0.646279  0.924391 -0.279070   \n",
       "4 -0.052144  0.00 -0.581720 -0.457143  1.271680 -0.475025  0.924391 -0.279070   \n",
       "\n",
       "    PTRATIO         B  ...  RAD_1  RAD_2  RAD_24  RAD_3  RAD_4  RAD_5  RAD_6  \\\n",
       "0 -1.339286  0.261902  ...      1      0       0      0      0      0      0   \n",
       "1 -0.446429  0.261902  ...      0      1       0      0      0      0      0   \n",
       "2 -0.446429  0.066675  ...      0      1       0      0      0      0      0   \n",
       "3 -0.125000  0.153016  ...      0      0       0      1      0      0      0   \n",
       "4 -0.125000  0.261902  ...      0      0       0      1      0      0      0   \n",
       "\n",
       "   RAD_7  RAD_8  MEDV  \n",
       "0      0      0  24.0  \n",
       "1      0      0  21.6  \n",
       "2      0      0  34.7  \n",
       "3      0      0  33.4  \n",
       "4      0      0  36.2  \n",
       "\n",
       "[5 rows x 22 columns]"
      ]
     },
     "execution_count": 3,
     "metadata": {},
     "output_type": "execute_result"
    }
   ],
   "source": [
    "#Eliminació de columnes no rellevants\n",
    "housing_ML.drop('Unnamed: 0', axis=1, inplace=True)\n",
    "housing_ML.head(5)"
   ]
  },
  {
   "cell_type": "code",
   "execution_count": 4,
   "id": "5d4b6702",
   "metadata": {},
   "outputs": [
    {
     "data": {
      "text/plain": [
       "(506, 22)"
      ]
     },
     "execution_count": 4,
     "metadata": {},
     "output_type": "execute_result"
    }
   ],
   "source": [
    "housing_ML.shape"
   ]
  },
  {
   "cell_type": "code",
   "execution_count": 5,
   "id": "3be37e06",
   "metadata": {},
   "outputs": [
    {
     "data": {
      "text/plain": [
       "Index(['CRIM', 'ZN', 'INDUS', 'NOX', 'RM', 'AGE', 'DIS', 'TAX', 'PTRATIO', 'B',\n",
       "       'LSTAT', 'CHAS', 'RAD_1', 'RAD_2', 'RAD_24', 'RAD_3', 'RAD_4', 'RAD_5',\n",
       "       'RAD_6', 'RAD_7', 'RAD_8', 'MEDV'],\n",
       "      dtype='object')"
      ]
     },
     "execution_count": 5,
     "metadata": {},
     "output_type": "execute_result"
    }
   ],
   "source": [
    "housing_ML.columns"
   ]
  },
  {
   "cell_type": "markdown",
   "id": "af32cbfb",
   "metadata": {},
   "source": [
    "El dataset transformat té 22 columnes, amb les variables següents:\n",
    "- CRIM: Índex de criminalitat per càpita CRIM per ciutat\n",
    "- ZN: proporció de sòl residencial zonificat per a lots de més de 25.000 peus quadrats\n",
    "- INDUS: proporció d'acres comercials no minoristes per ciutat\n",
    "- CHAS: Variable binària fictícia de Charles River (= 1 si la zona està al costat del riu; 0 en cas contrari). \n",
    "- NOX: concentració d'òxids nítrics (parts per 10 milions)\n",
    "- RM: nombre mitjà d'habitacions per habitatge\n",
    "- AGE: proporció d'unitats ocupades pels seus propietaris construïdes abans de 1940\n",
    "- DIS: distàncies ponderades a cinc centres d'ocupació de Boston\n",
    "- RAD_1, RAD_2, RAD_24, RAD_3, RAD_4, RAD_5, RAD_6, RAD_7, RAD_8, aquestes columnes s'han format a partir de la variable RAD, que fa referència a l'índex d'accessibilitat a autopistes radials.\n",
    "- TAX: taxa de l'impost sobre béns immobles de valor íntegre per 10.000 dòlars\n",
    "- PTRATIO: ràtio alumne-professor per ciutat\n",
    "- B: 1000(Bk - 0,63)^2 on Bk és la proporció de negres per ciutat\n",
    "- LSTAT: % estatus inferior de la població\n",
    "- MEDV: Valor mitjà dels habitatges ocupats pels seus propietaris en 1000$. MEDV és la variable objectiu o target."
   ]
  },
  {
   "cell_type": "markdown",
   "id": "af9a3862",
   "metadata": {},
   "source": [
    "#### (a) Features (X) i target (y). Conversió de les dades en arrays:"
   ]
  },
  {
   "cell_type": "code",
   "execution_count": 6,
   "id": "b124ae80",
   "metadata": {},
   "outputs": [],
   "source": [
    "from sklearn.model_selection import train_test_split\n",
    "\n",
    "X = housing_ML.drop('MEDV', axis=1) #característiques(features)\n",
    "y = np.array(housing_ML['MEDV']) #variable target (la que volem predir)\n",
    "\n",
    "X_list = list(X.columns) #Guardem el nom de les variables X en una llista per futur ús\n",
    "X = np.array(X) #convertim el conjunt X en un np array perquè l'algoritme ho pugui llegir"
   ]
  },
  {
   "cell_type": "markdown",
   "id": "90aaa0fb",
   "metadata": {},
   "source": [
    "#### (b) Train i Test Set:"
   ]
  },
  {
   "cell_type": "code",
   "execution_count": 7,
   "id": "33b71b79",
   "metadata": {},
   "outputs": [
    {
     "name": "stdout",
     "output_type": "stream",
     "text": [
      "Forma del Training set: X=(404, 21), y=(404,)\n",
      "Forma del Test set: X=(102, 21), y=(102,)\n"
     ]
    }
   ],
   "source": [
    "X_train, X_test, y_train, y_test = train_test_split(X, y, test_size=0.2, random_state=42)\n",
    "\n",
    "print('Forma del Training set: X={}, y={}'.format(X_train.shape, y_train.shape))\n",
    "print('Forma del Test set: X={}, y={}'.format(X_test.shape, y_test.shape))"
   ]
  },
  {
   "cell_type": "markdown",
   "id": "24d7dd9c",
   "metadata": {},
   "source": [
    "### Models"
   ]
  },
  {
   "cell_type": "markdown",
   "id": "815e867e",
   "metadata": {},
   "source": [
    "#### Decision Tree Regression"
   ]
  },
  {
   "cell_type": "code",
   "execution_count": 13,
   "id": "678c15e5",
   "metadata": {},
   "outputs": [
    {
     "data": {
      "text/html": [
       "<style>#sk-container-id-3 {color: black;background-color: white;}#sk-container-id-3 pre{padding: 0;}#sk-container-id-3 div.sk-toggleable {background-color: white;}#sk-container-id-3 label.sk-toggleable__label {cursor: pointer;display: block;width: 100%;margin-bottom: 0;padding: 0.3em;box-sizing: border-box;text-align: center;}#sk-container-id-3 label.sk-toggleable__label-arrow:before {content: \"▸\";float: left;margin-right: 0.25em;color: #696969;}#sk-container-id-3 label.sk-toggleable__label-arrow:hover:before {color: black;}#sk-container-id-3 div.sk-estimator:hover label.sk-toggleable__label-arrow:before {color: black;}#sk-container-id-3 div.sk-toggleable__content {max-height: 0;max-width: 0;overflow: hidden;text-align: left;background-color: #f0f8ff;}#sk-container-id-3 div.sk-toggleable__content pre {margin: 0.2em;color: black;border-radius: 0.25em;background-color: #f0f8ff;}#sk-container-id-3 input.sk-toggleable__control:checked~div.sk-toggleable__content {max-height: 200px;max-width: 100%;overflow: auto;}#sk-container-id-3 input.sk-toggleable__control:checked~label.sk-toggleable__label-arrow:before {content: \"▾\";}#sk-container-id-3 div.sk-estimator input.sk-toggleable__control:checked~label.sk-toggleable__label {background-color: #d4ebff;}#sk-container-id-3 div.sk-label input.sk-toggleable__control:checked~label.sk-toggleable__label {background-color: #d4ebff;}#sk-container-id-3 input.sk-hidden--visually {border: 0;clip: rect(1px 1px 1px 1px);clip: rect(1px, 1px, 1px, 1px);height: 1px;margin: -1px;overflow: hidden;padding: 0;position: absolute;width: 1px;}#sk-container-id-3 div.sk-estimator {font-family: monospace;background-color: #f0f8ff;border: 1px dotted black;border-radius: 0.25em;box-sizing: border-box;margin-bottom: 0.5em;}#sk-container-id-3 div.sk-estimator:hover {background-color: #d4ebff;}#sk-container-id-3 div.sk-parallel-item::after {content: \"\";width: 100%;border-bottom: 1px solid gray;flex-grow: 1;}#sk-container-id-3 div.sk-label:hover label.sk-toggleable__label {background-color: #d4ebff;}#sk-container-id-3 div.sk-serial::before {content: \"\";position: absolute;border-left: 1px solid gray;box-sizing: border-box;top: 0;bottom: 0;left: 50%;z-index: 0;}#sk-container-id-3 div.sk-serial {display: flex;flex-direction: column;align-items: center;background-color: white;padding-right: 0.2em;padding-left: 0.2em;position: relative;}#sk-container-id-3 div.sk-item {position: relative;z-index: 1;}#sk-container-id-3 div.sk-parallel {display: flex;align-items: stretch;justify-content: center;background-color: white;position: relative;}#sk-container-id-3 div.sk-item::before, #sk-container-id-3 div.sk-parallel-item::before {content: \"\";position: absolute;border-left: 1px solid gray;box-sizing: border-box;top: 0;bottom: 0;left: 50%;z-index: -1;}#sk-container-id-3 div.sk-parallel-item {display: flex;flex-direction: column;z-index: 1;position: relative;background-color: white;}#sk-container-id-3 div.sk-parallel-item:first-child::after {align-self: flex-end;width: 50%;}#sk-container-id-3 div.sk-parallel-item:last-child::after {align-self: flex-start;width: 50%;}#sk-container-id-3 div.sk-parallel-item:only-child::after {width: 0;}#sk-container-id-3 div.sk-dashed-wrapped {border: 1px dashed gray;margin: 0 0.4em 0.5em 0.4em;box-sizing: border-box;padding-bottom: 0.4em;background-color: white;}#sk-container-id-3 div.sk-label label {font-family: monospace;font-weight: bold;display: inline-block;line-height: 1.2em;}#sk-container-id-3 div.sk-label-container {text-align: center;}#sk-container-id-3 div.sk-container {/* jupyter's `normalize.less` sets `[hidden] { display: none; }` but bootstrap.min.css set `[hidden] { display: none !important; }` so we also need the `!important` here to be able to override the default hidden behavior on the sphinx rendered scikit-learn.org. See: https://github.com/scikit-learn/scikit-learn/issues/21755 */display: inline-block !important;position: relative;}#sk-container-id-3 div.sk-text-repr-fallback {display: none;}</style><div id=\"sk-container-id-3\" class=\"sk-top-container\"><div class=\"sk-text-repr-fallback\"><pre>DecisionTreeRegressor(random_state=42)</pre><b>In a Jupyter environment, please rerun this cell to show the HTML representation or trust the notebook. <br />On GitHub, the HTML representation is unable to render, please try loading this page with nbviewer.org.</b></div><div class=\"sk-container\" hidden><div class=\"sk-item\"><div class=\"sk-estimator sk-toggleable\"><input class=\"sk-toggleable__control sk-hidden--visually\" id=\"sk-estimator-id-3\" type=\"checkbox\" checked><label for=\"sk-estimator-id-3\" class=\"sk-toggleable__label sk-toggleable__label-arrow\">DecisionTreeRegressor</label><div class=\"sk-toggleable__content\"><pre>DecisionTreeRegressor(random_state=42)</pre></div></div></div></div></div>"
      ],
      "text/plain": [
       "DecisionTreeRegressor(random_state=42)"
      ]
     },
     "execution_count": 13,
     "metadata": {},
     "output_type": "execute_result"
    }
   ],
   "source": [
    "from sklearn.tree import DecisionTreeRegressor\n",
    "\n",
    "dt = DecisionTreeRegressor(random_state=42)\n",
    "dt.fit(X_train, y_train)"
   ]
  },
  {
   "cell_type": "code",
   "execution_count": 14,
   "id": "2997caaf",
   "metadata": {},
   "outputs": [],
   "source": [
    "predictions_dt = dt.predict(X_test)"
   ]
  },
  {
   "cell_type": "markdown",
   "id": "e7a85712",
   "metadata": {},
   "source": [
    "#### Random forest"
   ]
  },
  {
   "cell_type": "code",
   "execution_count": 15,
   "id": "1fa46dc3",
   "metadata": {},
   "outputs": [
    {
     "data": {
      "text/html": [
       "<style>#sk-container-id-4 {color: black;background-color: white;}#sk-container-id-4 pre{padding: 0;}#sk-container-id-4 div.sk-toggleable {background-color: white;}#sk-container-id-4 label.sk-toggleable__label {cursor: pointer;display: block;width: 100%;margin-bottom: 0;padding: 0.3em;box-sizing: border-box;text-align: center;}#sk-container-id-4 label.sk-toggleable__label-arrow:before {content: \"▸\";float: left;margin-right: 0.25em;color: #696969;}#sk-container-id-4 label.sk-toggleable__label-arrow:hover:before {color: black;}#sk-container-id-4 div.sk-estimator:hover label.sk-toggleable__label-arrow:before {color: black;}#sk-container-id-4 div.sk-toggleable__content {max-height: 0;max-width: 0;overflow: hidden;text-align: left;background-color: #f0f8ff;}#sk-container-id-4 div.sk-toggleable__content pre {margin: 0.2em;color: black;border-radius: 0.25em;background-color: #f0f8ff;}#sk-container-id-4 input.sk-toggleable__control:checked~div.sk-toggleable__content {max-height: 200px;max-width: 100%;overflow: auto;}#sk-container-id-4 input.sk-toggleable__control:checked~label.sk-toggleable__label-arrow:before {content: \"▾\";}#sk-container-id-4 div.sk-estimator input.sk-toggleable__control:checked~label.sk-toggleable__label {background-color: #d4ebff;}#sk-container-id-4 div.sk-label input.sk-toggleable__control:checked~label.sk-toggleable__label {background-color: #d4ebff;}#sk-container-id-4 input.sk-hidden--visually {border: 0;clip: rect(1px 1px 1px 1px);clip: rect(1px, 1px, 1px, 1px);height: 1px;margin: -1px;overflow: hidden;padding: 0;position: absolute;width: 1px;}#sk-container-id-4 div.sk-estimator {font-family: monospace;background-color: #f0f8ff;border: 1px dotted black;border-radius: 0.25em;box-sizing: border-box;margin-bottom: 0.5em;}#sk-container-id-4 div.sk-estimator:hover {background-color: #d4ebff;}#sk-container-id-4 div.sk-parallel-item::after {content: \"\";width: 100%;border-bottom: 1px solid gray;flex-grow: 1;}#sk-container-id-4 div.sk-label:hover label.sk-toggleable__label {background-color: #d4ebff;}#sk-container-id-4 div.sk-serial::before {content: \"\";position: absolute;border-left: 1px solid gray;box-sizing: border-box;top: 0;bottom: 0;left: 50%;z-index: 0;}#sk-container-id-4 div.sk-serial {display: flex;flex-direction: column;align-items: center;background-color: white;padding-right: 0.2em;padding-left: 0.2em;position: relative;}#sk-container-id-4 div.sk-item {position: relative;z-index: 1;}#sk-container-id-4 div.sk-parallel {display: flex;align-items: stretch;justify-content: center;background-color: white;position: relative;}#sk-container-id-4 div.sk-item::before, #sk-container-id-4 div.sk-parallel-item::before {content: \"\";position: absolute;border-left: 1px solid gray;box-sizing: border-box;top: 0;bottom: 0;left: 50%;z-index: -1;}#sk-container-id-4 div.sk-parallel-item {display: flex;flex-direction: column;z-index: 1;position: relative;background-color: white;}#sk-container-id-4 div.sk-parallel-item:first-child::after {align-self: flex-end;width: 50%;}#sk-container-id-4 div.sk-parallel-item:last-child::after {align-self: flex-start;width: 50%;}#sk-container-id-4 div.sk-parallel-item:only-child::after {width: 0;}#sk-container-id-4 div.sk-dashed-wrapped {border: 1px dashed gray;margin: 0 0.4em 0.5em 0.4em;box-sizing: border-box;padding-bottom: 0.4em;background-color: white;}#sk-container-id-4 div.sk-label label {font-family: monospace;font-weight: bold;display: inline-block;line-height: 1.2em;}#sk-container-id-4 div.sk-label-container {text-align: center;}#sk-container-id-4 div.sk-container {/* jupyter's `normalize.less` sets `[hidden] { display: none; }` but bootstrap.min.css set `[hidden] { display: none !important; }` so we also need the `!important` here to be able to override the default hidden behavior on the sphinx rendered scikit-learn.org. See: https://github.com/scikit-learn/scikit-learn/issues/21755 */display: inline-block !important;position: relative;}#sk-container-id-4 div.sk-text-repr-fallback {display: none;}</style><div id=\"sk-container-id-4\" class=\"sk-top-container\"><div class=\"sk-text-repr-fallback\"><pre>RandomForestRegressor(random_state=42)</pre><b>In a Jupyter environment, please rerun this cell to show the HTML representation or trust the notebook. <br />On GitHub, the HTML representation is unable to render, please try loading this page with nbviewer.org.</b></div><div class=\"sk-container\" hidden><div class=\"sk-item\"><div class=\"sk-estimator sk-toggleable\"><input class=\"sk-toggleable__control sk-hidden--visually\" id=\"sk-estimator-id-4\" type=\"checkbox\" checked><label for=\"sk-estimator-id-4\" class=\"sk-toggleable__label sk-toggleable__label-arrow\">RandomForestRegressor</label><div class=\"sk-toggleable__content\"><pre>RandomForestRegressor(random_state=42)</pre></div></div></div></div></div>"
      ],
      "text/plain": [
       "RandomForestRegressor(random_state=42)"
      ]
     },
     "execution_count": 15,
     "metadata": {},
     "output_type": "execute_result"
    }
   ],
   "source": [
    "from sklearn.ensemble import RandomForestRegressor\n",
    "\n",
    "rf = RandomForestRegressor(random_state = 42)\n",
    "rf.fit(X_train, y_train)"
   ]
  },
  {
   "cell_type": "code",
   "execution_count": 16,
   "id": "6e8c36bb",
   "metadata": {},
   "outputs": [],
   "source": [
    "predictions_rf = rf.predict(X_test)"
   ]
  },
  {
   "cell_type": "markdown",
   "id": "cdc690ec",
   "metadata": {},
   "source": [
    "#### Exercici 2. Compara’ls en base al MSE (Mean Square Error) i al R2.\n",
    "\n",
    "- MSE (error quadràtic mitjà): És una funció de risc que mesura lo aprop que està una línia de regressió d'un conjunt de punts de dades. Ajuda a quantificar la precisió del model. És convenient utilitzar aquesta mesura si la variable objectiu està normalment distribuïda i es vol que els errors grans es penalitzin més que els petits.\n",
    "\n",
    "- R2 (coeficient de determinació): La puntuació R2 indica si el model és capaç d'explicar bé la variabilitat de la variable objectiu. Cal tenir en compte que si el R2 és molt alt pot ser indicatiu d'un sobreajustament, si no es compleixen altres assumpcions del model."
   ]
  },
  {
   "cell_type": "code",
   "execution_count": 17,
   "id": "50b9321a",
   "metadata": {},
   "outputs": [
    {
     "name": "stdout",
     "output_type": "stream",
     "text": [
      "MSE del Decision Tree Regression: 11.331568627450983\n",
      "MSE del Random Forest: 8.012439598039217\n"
     ]
    }
   ],
   "source": [
    "from sklearn.metrics import mean_squared_error\n",
    "print('MSE del Decision Tree Regression:', mean_squared_error(y_test, predictions_dt))\n",
    "print('MSE del Random Forest:', mean_squared_error(y_test, predictions_rf))"
   ]
  },
  {
   "cell_type": "markdown",
   "id": "6ec752a6",
   "metadata": {},
   "source": [
    "El model Random Forest té un MSE més petit que el Decision Tree Regression. Això ens indica que l'error del primer és menor i, per tant, que té un millor rendiment predictiu. Dit d'una altra manera, el model Random Forest és més acurat a l'hora de fer les prediccions.\n",
    "\n",
    "Cal tenir en compte que el MSE es mesura en les unitats quadrades de la variable objectiu, és a dir, per obtenir una mesura en les mateixes unitats que la variable objectiu es podria utilitzar l'arrel quadrada de l'MSE."
   ]
  },
  {
   "cell_type": "code",
   "execution_count": 18,
   "id": "ed23ee7a",
   "metadata": {},
   "outputs": [
    {
     "name": "stdout",
     "output_type": "stream",
     "text": [
      "R2 del Decision Tree Regression: 0.8454795574547436\n",
      "R2 del Random Forest: 0.8907401302272603\n"
     ]
    }
   ],
   "source": [
    "from sklearn.metrics import r2_score\n",
    "print('R2 del Decision Tree Regression:', r2_score(y_test, predictions_dt))\n",
    "print('R2 del Random Forest:', r2_score(y_test, predictions_rf))"
   ]
  },
  {
   "cell_type": "markdown",
   "id": "4615e261",
   "metadata": {},
   "source": [
    "Els dos models tenen un R2 pròxim a 1, el que vol dir que els dos semblen funcionar bé a l'hora d'explicar la variabilitat de la variable objectiu (MEDV). Els resultats indiquen que el model Decision Tree Regression explica el voltant del 84,55% de la variabilitat de la variable target, mentre que el model Random Forest és capaç d'explicar el 89,07%. Per tant, el segon és més capaç d'identificar patrons en el conjunt de dades."
   ]
  },
  {
   "cell_type": "markdown",
   "id": "4fc6db42",
   "metadata": {},
   "source": [
    "#### Exercici 3. Entrena’ls utilitzant els diferents paràmetres que admeten per intentar millorar-ne la predicció."
   ]
  },
  {
   "cell_type": "code",
   "execution_count": 20,
   "id": "24aa857f",
   "metadata": {},
   "outputs": [
    {
     "name": "stdout",
     "output_type": "stream",
     "text": [
      "Millors paràmetres pel DecisionTreeRegressor: {'max_depth': 7, 'min_samples_leaf': 8, 'min_samples_split': 2, 'random_state': 42}\n",
      "Millors paràmetres pel RandomForestRegressor: {'max_depth': 10, 'min_samples_leaf': 2, 'min_samples_split': 2, 'n_estimators': 100, 'random_state': 42}\n"
     ]
    }
   ],
   "source": [
    "from sklearn.model_selection import GridSearchCV\n",
    "\n",
    "# Definició de la cuadrícula de paràmetres pel DecisionTreeRegressor\n",
    "param_grid_dt = {\n",
    "    'max_depth': [3, 5, 7, 10, None],\n",
    "    'min_samples_split': [2, 5, 10],\n",
    "    'min_samples_leaf': [1, 2, 4, 8],\n",
    "    'random_state': [42]\n",
    "}\n",
    "\n",
    "# Definició de la cuadrícula de paràmetres pel RandomForestRegressor\n",
    "param_grid_rf = {\n",
    "    'n_estimators': [50, 100, 200],\n",
    "    'max_depth': [3, 5, 7, 10, None],\n",
    "    'min_samples_split': [2, 5, 10],\n",
    "    'min_samples_leaf': [1, 2, 4, 8],\n",
    "    'random_state': [42]\n",
    "}\n",
    "\n",
    "dt_regressor = DecisionTreeRegressor()\n",
    "rf_regressor = RandomForestRegressor()\n",
    "\n",
    "# Ús del GridSearchCV per trobar els millors paràmetres pel DecisionTreeRegressor\n",
    "grid_search_dt = GridSearchCV(dt_regressor, param_grid_dt, cv=5, scoring='neg_mean_squared_error')\n",
    "grid_search_dt.fit(X_train, y_train)\n",
    "\n",
    "# Ús del GridSearchCV per trobar els millors paràmetres pel RandomForestRegressor\n",
    "grid_search_rf = GridSearchCV(rf_regressor, param_grid_rf, cv=5, scoring='neg_mean_squared_error')\n",
    "grid_search_rf.fit(X_train, y_train)\n",
    "\n",
    "print(\"Millors paràmetres pel DecisionTreeRegressor:\", grid_search_dt.best_params_)\n",
    "print(\"Millors paràmetres pel RandomForestRegressor:\", grid_search_rf.best_params_)"
   ]
  },
  {
   "cell_type": "markdown",
   "id": "862d235b",
   "metadata": {},
   "source": [
    "Els paràmetres òptims serien:\n",
    "\n",
    "- Pel DecisionTreeRegressor:\n",
    "    - max_depth: 7\n",
    "    - min_samples_leaf (número mínim de mostres per estar en un node d'una fulla): 8\n",
    "    - min_samples_split (número mínim de mostres per dividir un node intern): 2"
   ]
  },
  {
   "cell_type": "markdown",
   "id": "d9b9ea4e",
   "metadata": {},
   "source": [
    "- Pel RandomForestRegressor:\n",
    "    - max_depth: 10\n",
    "    - min_samples_leaf (número mínim de mostres per estar en un node d'una fulla): 2\n",
    "    - min_samples_split (número mínim de mostres per dividir un node intern): 2\n",
    "    - n_estimators (número d'arbres): 100 "
   ]
  },
  {
   "cell_type": "code",
   "execution_count": 21,
   "id": "88f38267",
   "metadata": {},
   "outputs": [
    {
     "name": "stdout",
     "output_type": "stream",
     "text": [
      "\n",
      "MSE del nou DecisionTreeRegressor: 15.92129611952102\n",
      "MSE del nou RandomForestRegressor: 9.111811406525728\n",
      "\n",
      "Millor R2 pel DecisionTreeRegressor: -22.31321410542953\n",
      "Millor R2 pel RandomForestRegressor: -14.827677545579206\n"
     ]
    }
   ],
   "source": [
    "# Prediccions amb els nous models\n",
    "predictions_best_dt = grid_search_dt.predict(X_test)\n",
    "predictions_best_rf = grid_search_rf.predict(X_test)\n",
    "\n",
    "# Evaluació dels models\n",
    "print(\"\\nMSE del nou DecisionTreeRegressor:\", mean_squared_error(y_test, predictions_best_dt))\n",
    "print(\"MSE del nou RandomForestRegressor:\", mean_squared_error(y_test, predictions_best_rf))\n",
    "\n",
    "print(\"\\nMillor R2 pel DecisionTreeRegressor:\", grid_search_dt.best_score_)\n",
    "print(\"Millor R2 pel RandomForestRegressor:\", grid_search_rf.best_score_)"
   ]
  },
  {
   "cell_type": "markdown",
   "id": "0c97ee52",
   "metadata": {},
   "source": [
    "Veiem que el rendiment dels models ha empitjorat enlloc de millorar. Això pot ser degut a varies raons, com el overfitting (que els models hagin estat massa ajustats als detalls específics del conjunt d'entrenament i, per tant, no generalitzin tan bé a noves dades) o el fet que els paràmatres no siguin els òptims. Una manera de solucionar-ho és reduïnt la complexitat dels models."
   ]
  },
  {
   "cell_type": "code",
   "execution_count": 26,
   "id": "3157940a",
   "metadata": {},
   "outputs": [
    {
     "name": "stdout",
     "output_type": "stream",
     "text": [
      "Millors paràmetres pel DecisionTreeRegressor: {'max_depth': 5, 'min_samples_leaf': 2, 'min_samples_split': 2, 'random_state': 42}\n",
      "Millors paràmetres pel RandomForestRegressor: {'max_depth': None, 'min_samples_leaf': 1, 'min_samples_split': 2, 'n_estimators': 100, 'random_state': 42}\n"
     ]
    }
   ],
   "source": [
    "# Nous paràmatres per reduïr la complexitat del model\n",
    "\n",
    "# Definició de la cuadrícula dels nous paràmetres pel DecisionTreeRegressor\n",
    "param_grid_dt_simplified = {\n",
    "    'max_depth': [3, 5, None], #reduïm la profunditat màxima de l'arbre\n",
    "    'min_samples_split': [2, 5],\n",
    "    'min_samples_leaf': [1, 2, 4],\n",
    "    'random_state': [42]\n",
    "}\n",
    "\n",
    "# Definició de la cuadrícula dels nous paràmetres pel RandomForestRegressor\n",
    "param_grid_rf_simplified = {\n",
    "    'n_estimators': [50, 100], #reduïm el número d'estimadors\n",
    "    'max_depth': [3, 5, None],\n",
    "    'min_samples_split': [2, 5],\n",
    "    'min_samples_leaf': [1, 2, 4],\n",
    "    'random_state': [42]\n",
    "}\n",
    "\n",
    "# Ús del GridSearchCV per trobar els millors paràmetres pel DecisionTreeRegressor\n",
    "grid_search_dt_simplified = GridSearchCV(dt_regressor, param_grid_dt_simplified, cv=5, scoring='neg_mean_squared_error')\n",
    "grid_search_dt_simplified.fit(X_train, y_train)\n",
    "\n",
    "# Ús del GridSearchCV per trobar els millors paràmetres pel RandomForestRegressor\n",
    "grid_search_rf_simplified = GridSearchCV(rf_regressor, param_grid_rf_simplified, cv=5, scoring='neg_mean_squared_error')\n",
    "grid_search_rf_simplified.fit(X_train, y_train)\n",
    "\n",
    "print(\"Millors paràmetres pel DecisionTreeRegressor:\", grid_search_dt_simplified.best_params_)\n",
    "print(\"Millors paràmetres pel RandomForestRegressor:\", grid_search_rf_simplified.best_params_)"
   ]
  },
  {
   "cell_type": "code",
   "execution_count": 27,
   "id": "5bd36c24",
   "metadata": {},
   "outputs": [
    {
     "name": "stdout",
     "output_type": "stream",
     "text": [
      "\n",
      "MSE del nou DecisionTreeRegressor: 9.343752254581478\n",
      "MSE del nou RandomForestRegressor: 8.012439598039217\n",
      "\n",
      "Millor R2 pel DecisionTreeRegressor: -26.695256574896923\n",
      "Millor R2 pel RandomForestRegressor: -14.893381867932101\n"
     ]
    }
   ],
   "source": [
    "# Prediccions amb els nous models\n",
    "predictions_best_dt_simplified = grid_search_dt_simplified.predict(X_test)\n",
    "predictions_best_rf_simplified = grid_search_rf_simplified.predict(X_test)\n",
    "\n",
    "# Evaluació dels models\n",
    "print(\"\\nMSE del nou DecisionTreeRegressor:\", mean_squared_error(y_test, predictions_best_dt_simplified))\n",
    "print(\"MSE del nou RandomForestRegressor:\", mean_squared_error(y_test, predictions_best_rf_simplified))\n",
    "\n",
    "print(\"\\nMillor R2 pel DecisionTreeRegressor:\", grid_search_dt_simplified.best_score_)\n",
    "print(\"Millor R2 pel RandomForestRegressor:\", grid_search_rf_simplified.best_score_)"
   ]
  },
  {
   "cell_type": "markdown",
   "id": "65d5b639",
   "metadata": {},
   "source": [
    "Veiem que, respecte del models inicials (Exercici 2), el rendiment segons el MSE ha millorat. En el cas del DecisionTreeRegressor ha passat de 11.331568627450983 a 9.343752254581478, mentre que en el cas del RandomForestRegressor segueix essent el mateix (8.012439598039217). Això vol que en aquest últim els paràmetres del model simplicat coincideixen amb els del model inicial. Pel que fa al R2, aquesta mètrica ha empitjorat per ambdós models."
   ]
  },
  {
   "cell_type": "markdown",
   "id": "c43fbb44",
   "metadata": {},
   "source": [
    "Així doncs, es podria seguir ajustar els valors dels paràmetres segons les necessitats del cas concret i continuar iterant fins a trobar el conjunt de paràmetres que millori el rendiment de cada model."
   ]
  },
  {
   "cell_type": "markdown",
   "id": "c89e04e1",
   "metadata": {},
   "source": [
    "#### Exercici 4. Compara el seu rendiment emprant l’aproximació traint/test o emprant totes les dades (validació interna)."
   ]
  },
  {
   "cell_type": "code",
   "execution_count": 30,
   "id": "64dd387e",
   "metadata": {},
   "outputs": [
    {
     "name": "stdout",
     "output_type": "stream",
     "text": [
      "Error Quadràtic Mitjà del Decision Tree Regression: 43.72368452727626\n",
      "R2 del Decision Tree Regression: 0.06935095041243766\n",
      "\n",
      "Error Quadràtic Mitjà del Random Forest: 21.270251010774597\n",
      "R2 del Random Forest: 0.6309561246173885\n"
     ]
    }
   ],
   "source": [
    "from sklearn.model_selection import cross_val_score\n",
    "from sklearn.metrics import make_scorer\n",
    "\n",
    "scorer_r2 = make_scorer(r2_score)\n",
    "\n",
    "# DecisionTreeRegressor\n",
    "dt_scores = cross_val_score(dt, X, y, cv=5, scoring='neg_mean_squared_error')\n",
    "dt_mse_scores = -dt_scores\n",
    "dt_r2_scores = cross_val_score(dt, X, y, cv=5, scoring=scorer_r2)\n",
    "\n",
    "# Random Forest Regressor\n",
    "rf_scores = cross_val_score(rf, X, y, cv=5, scoring='neg_mean_squared_error')\n",
    "rf_mse_scores = -rf_scores \n",
    "rf_r2_scores = cross_val_score(rf, X, y, cv=5, scoring=scorer_r2)\n",
    "\n",
    "print(\"Error Quadràtic Mitjà del Decision Tree Regression:\", np.mean(dt_mse_scores))\n",
    "print(\"R2 del Decision Tree Regression:\", np.mean(dt_r2_scores))\n",
    "\n",
    "print(\"\\nError Quadràtic Mitjà del Random Forest:\", np.mean(rf_mse_scores))\n",
    "print(\"R2 del Random Forest:\", np.mean(rf_r2_scores))"
   ]
  },
  {
   "cell_type": "markdown",
   "id": "f295470b",
   "metadata": {},
   "source": [
    "Els resultats obtinguts amb l'aproximació train/test eren:\n",
    "- Decision Tree Regressor:\n",
    "    - MSE: 11.331568627450983\n",
    "    - R2: 0.8454795574547436\n",
    "- Random Forest Regressor: \n",
    "    - MSE: 8.012439598039217\n",
    "    - R2: 0.8907401302272603\n",
    "\n",
    "Veiem que els resultats amb validació creuada mostren un MSE més alt i un R2 més baix que els obtinguts amb l'aproximació train/test, amb una diferència molt més accentuada en el cas del Decision Tree Regressor.\n",
    "\n",
    "Això pot voler dir que els models no generalitzen tan bé quan s'entrenen i es validen amb les diferents particions del conjunt de dades, ja que obtenen un major error i tenen menys capacitat d'explicar la variabilitat de la variable objectiu. "
   ]
  },
  {
   "cell_type": "markdown",
   "id": "5210b4f4",
   "metadata": {},
   "source": [
    "#### Exercici 5. No facis servir la variable del nombre d'habitacions (RM) a l’hora de fer prediccions."
   ]
  },
  {
   "cell_type": "code",
   "execution_count": 31,
   "id": "3fd54da1",
   "metadata": {},
   "outputs": [],
   "source": [
    "X_no_rm = housing_ML.drop(['RM','MEDV'], axis=1) \n",
    "y_no_rm = np.array(housing_ML['MEDV']) "
   ]
  },
  {
   "cell_type": "code",
   "execution_count": 33,
   "id": "43797039",
   "metadata": {},
   "outputs": [
    {
     "name": "stdout",
     "output_type": "stream",
     "text": [
      "Forma del Training set: X=(404, 20), y=(404,)\n",
      "Forma del Test set: X=(102, 20), y=(102,)\n"
     ]
    }
   ],
   "source": [
    "X_train_no_rm, X_test_no_rm, y_train_no_rm, y_test_no_rm = train_test_split(X_no_rm, y_no_rm, test_size=0.2, random_state=42)\n",
    "\n",
    "print('Forma del Training set: X={}, y={}'.format(X_train_no_rm.shape, y_train_no_rm.shape))\n",
    "print('Forma del Test set: X={}, y={}'.format(X_test_no_rm.shape, y_test_no_rm.shape))"
   ]
  },
  {
   "cell_type": "code",
   "execution_count": 35,
   "id": "befe0fa1",
   "metadata": {},
   "outputs": [
    {
     "data": {
      "text/html": [
       "<style>#sk-container-id-5 {color: black;background-color: white;}#sk-container-id-5 pre{padding: 0;}#sk-container-id-5 div.sk-toggleable {background-color: white;}#sk-container-id-5 label.sk-toggleable__label {cursor: pointer;display: block;width: 100%;margin-bottom: 0;padding: 0.3em;box-sizing: border-box;text-align: center;}#sk-container-id-5 label.sk-toggleable__label-arrow:before {content: \"▸\";float: left;margin-right: 0.25em;color: #696969;}#sk-container-id-5 label.sk-toggleable__label-arrow:hover:before {color: black;}#sk-container-id-5 div.sk-estimator:hover label.sk-toggleable__label-arrow:before {color: black;}#sk-container-id-5 div.sk-toggleable__content {max-height: 0;max-width: 0;overflow: hidden;text-align: left;background-color: #f0f8ff;}#sk-container-id-5 div.sk-toggleable__content pre {margin: 0.2em;color: black;border-radius: 0.25em;background-color: #f0f8ff;}#sk-container-id-5 input.sk-toggleable__control:checked~div.sk-toggleable__content {max-height: 200px;max-width: 100%;overflow: auto;}#sk-container-id-5 input.sk-toggleable__control:checked~label.sk-toggleable__label-arrow:before {content: \"▾\";}#sk-container-id-5 div.sk-estimator input.sk-toggleable__control:checked~label.sk-toggleable__label {background-color: #d4ebff;}#sk-container-id-5 div.sk-label input.sk-toggleable__control:checked~label.sk-toggleable__label {background-color: #d4ebff;}#sk-container-id-5 input.sk-hidden--visually {border: 0;clip: rect(1px 1px 1px 1px);clip: rect(1px, 1px, 1px, 1px);height: 1px;margin: -1px;overflow: hidden;padding: 0;position: absolute;width: 1px;}#sk-container-id-5 div.sk-estimator {font-family: monospace;background-color: #f0f8ff;border: 1px dotted black;border-radius: 0.25em;box-sizing: border-box;margin-bottom: 0.5em;}#sk-container-id-5 div.sk-estimator:hover {background-color: #d4ebff;}#sk-container-id-5 div.sk-parallel-item::after {content: \"\";width: 100%;border-bottom: 1px solid gray;flex-grow: 1;}#sk-container-id-5 div.sk-label:hover label.sk-toggleable__label {background-color: #d4ebff;}#sk-container-id-5 div.sk-serial::before {content: \"\";position: absolute;border-left: 1px solid gray;box-sizing: border-box;top: 0;bottom: 0;left: 50%;z-index: 0;}#sk-container-id-5 div.sk-serial {display: flex;flex-direction: column;align-items: center;background-color: white;padding-right: 0.2em;padding-left: 0.2em;position: relative;}#sk-container-id-5 div.sk-item {position: relative;z-index: 1;}#sk-container-id-5 div.sk-parallel {display: flex;align-items: stretch;justify-content: center;background-color: white;position: relative;}#sk-container-id-5 div.sk-item::before, #sk-container-id-5 div.sk-parallel-item::before {content: \"\";position: absolute;border-left: 1px solid gray;box-sizing: border-box;top: 0;bottom: 0;left: 50%;z-index: -1;}#sk-container-id-5 div.sk-parallel-item {display: flex;flex-direction: column;z-index: 1;position: relative;background-color: white;}#sk-container-id-5 div.sk-parallel-item:first-child::after {align-self: flex-end;width: 50%;}#sk-container-id-5 div.sk-parallel-item:last-child::after {align-self: flex-start;width: 50%;}#sk-container-id-5 div.sk-parallel-item:only-child::after {width: 0;}#sk-container-id-5 div.sk-dashed-wrapped {border: 1px dashed gray;margin: 0 0.4em 0.5em 0.4em;box-sizing: border-box;padding-bottom: 0.4em;background-color: white;}#sk-container-id-5 div.sk-label label {font-family: monospace;font-weight: bold;display: inline-block;line-height: 1.2em;}#sk-container-id-5 div.sk-label-container {text-align: center;}#sk-container-id-5 div.sk-container {/* jupyter's `normalize.less` sets `[hidden] { display: none; }` but bootstrap.min.css set `[hidden] { display: none !important; }` so we also need the `!important` here to be able to override the default hidden behavior on the sphinx rendered scikit-learn.org. See: https://github.com/scikit-learn/scikit-learn/issues/21755 */display: inline-block !important;position: relative;}#sk-container-id-5 div.sk-text-repr-fallback {display: none;}</style><div id=\"sk-container-id-5\" class=\"sk-top-container\"><div class=\"sk-text-repr-fallback\"><pre>DecisionTreeRegressor(random_state=42)</pre><b>In a Jupyter environment, please rerun this cell to show the HTML representation or trust the notebook. <br />On GitHub, the HTML representation is unable to render, please try loading this page with nbviewer.org.</b></div><div class=\"sk-container\" hidden><div class=\"sk-item\"><div class=\"sk-estimator sk-toggleable\"><input class=\"sk-toggleable__control sk-hidden--visually\" id=\"sk-estimator-id-5\" type=\"checkbox\" checked><label for=\"sk-estimator-id-5\" class=\"sk-toggleable__label sk-toggleable__label-arrow\">DecisionTreeRegressor</label><div class=\"sk-toggleable__content\"><pre>DecisionTreeRegressor(random_state=42)</pre></div></div></div></div></div>"
      ],
      "text/plain": [
       "DecisionTreeRegressor(random_state=42)"
      ]
     },
     "execution_count": 35,
     "metadata": {},
     "output_type": "execute_result"
    }
   ],
   "source": [
    "#Decision Tree Regressor\n",
    "dt_no_rm = DecisionTreeRegressor(random_state=42)\n",
    "dt_no_rm.fit(X_train_no_rm, y_train_no_rm)"
   ]
  },
  {
   "cell_type": "code",
   "execution_count": 36,
   "id": "98c97edf",
   "metadata": {},
   "outputs": [],
   "source": [
    "predictions_dt_no_rm = dt_no_rm.predict(X_test_no_rm)"
   ]
  },
  {
   "cell_type": "code",
   "execution_count": 37,
   "id": "c35d5e73",
   "metadata": {},
   "outputs": [
    {
     "data": {
      "text/html": [
       "<style>#sk-container-id-6 {color: black;background-color: white;}#sk-container-id-6 pre{padding: 0;}#sk-container-id-6 div.sk-toggleable {background-color: white;}#sk-container-id-6 label.sk-toggleable__label {cursor: pointer;display: block;width: 100%;margin-bottom: 0;padding: 0.3em;box-sizing: border-box;text-align: center;}#sk-container-id-6 label.sk-toggleable__label-arrow:before {content: \"▸\";float: left;margin-right: 0.25em;color: #696969;}#sk-container-id-6 label.sk-toggleable__label-arrow:hover:before {color: black;}#sk-container-id-6 div.sk-estimator:hover label.sk-toggleable__label-arrow:before {color: black;}#sk-container-id-6 div.sk-toggleable__content {max-height: 0;max-width: 0;overflow: hidden;text-align: left;background-color: #f0f8ff;}#sk-container-id-6 div.sk-toggleable__content pre {margin: 0.2em;color: black;border-radius: 0.25em;background-color: #f0f8ff;}#sk-container-id-6 input.sk-toggleable__control:checked~div.sk-toggleable__content {max-height: 200px;max-width: 100%;overflow: auto;}#sk-container-id-6 input.sk-toggleable__control:checked~label.sk-toggleable__label-arrow:before {content: \"▾\";}#sk-container-id-6 div.sk-estimator input.sk-toggleable__control:checked~label.sk-toggleable__label {background-color: #d4ebff;}#sk-container-id-6 div.sk-label input.sk-toggleable__control:checked~label.sk-toggleable__label {background-color: #d4ebff;}#sk-container-id-6 input.sk-hidden--visually {border: 0;clip: rect(1px 1px 1px 1px);clip: rect(1px, 1px, 1px, 1px);height: 1px;margin: -1px;overflow: hidden;padding: 0;position: absolute;width: 1px;}#sk-container-id-6 div.sk-estimator {font-family: monospace;background-color: #f0f8ff;border: 1px dotted black;border-radius: 0.25em;box-sizing: border-box;margin-bottom: 0.5em;}#sk-container-id-6 div.sk-estimator:hover {background-color: #d4ebff;}#sk-container-id-6 div.sk-parallel-item::after {content: \"\";width: 100%;border-bottom: 1px solid gray;flex-grow: 1;}#sk-container-id-6 div.sk-label:hover label.sk-toggleable__label {background-color: #d4ebff;}#sk-container-id-6 div.sk-serial::before {content: \"\";position: absolute;border-left: 1px solid gray;box-sizing: border-box;top: 0;bottom: 0;left: 50%;z-index: 0;}#sk-container-id-6 div.sk-serial {display: flex;flex-direction: column;align-items: center;background-color: white;padding-right: 0.2em;padding-left: 0.2em;position: relative;}#sk-container-id-6 div.sk-item {position: relative;z-index: 1;}#sk-container-id-6 div.sk-parallel {display: flex;align-items: stretch;justify-content: center;background-color: white;position: relative;}#sk-container-id-6 div.sk-item::before, #sk-container-id-6 div.sk-parallel-item::before {content: \"\";position: absolute;border-left: 1px solid gray;box-sizing: border-box;top: 0;bottom: 0;left: 50%;z-index: -1;}#sk-container-id-6 div.sk-parallel-item {display: flex;flex-direction: column;z-index: 1;position: relative;background-color: white;}#sk-container-id-6 div.sk-parallel-item:first-child::after {align-self: flex-end;width: 50%;}#sk-container-id-6 div.sk-parallel-item:last-child::after {align-self: flex-start;width: 50%;}#sk-container-id-6 div.sk-parallel-item:only-child::after {width: 0;}#sk-container-id-6 div.sk-dashed-wrapped {border: 1px dashed gray;margin: 0 0.4em 0.5em 0.4em;box-sizing: border-box;padding-bottom: 0.4em;background-color: white;}#sk-container-id-6 div.sk-label label {font-family: monospace;font-weight: bold;display: inline-block;line-height: 1.2em;}#sk-container-id-6 div.sk-label-container {text-align: center;}#sk-container-id-6 div.sk-container {/* jupyter's `normalize.less` sets `[hidden] { display: none; }` but bootstrap.min.css set `[hidden] { display: none !important; }` so we also need the `!important` here to be able to override the default hidden behavior on the sphinx rendered scikit-learn.org. See: https://github.com/scikit-learn/scikit-learn/issues/21755 */display: inline-block !important;position: relative;}#sk-container-id-6 div.sk-text-repr-fallback {display: none;}</style><div id=\"sk-container-id-6\" class=\"sk-top-container\"><div class=\"sk-text-repr-fallback\"><pre>RandomForestRegressor(random_state=42)</pre><b>In a Jupyter environment, please rerun this cell to show the HTML representation or trust the notebook. <br />On GitHub, the HTML representation is unable to render, please try loading this page with nbviewer.org.</b></div><div class=\"sk-container\" hidden><div class=\"sk-item\"><div class=\"sk-estimator sk-toggleable\"><input class=\"sk-toggleable__control sk-hidden--visually\" id=\"sk-estimator-id-6\" type=\"checkbox\" checked><label for=\"sk-estimator-id-6\" class=\"sk-toggleable__label sk-toggleable__label-arrow\">RandomForestRegressor</label><div class=\"sk-toggleable__content\"><pre>RandomForestRegressor(random_state=42)</pre></div></div></div></div></div>"
      ],
      "text/plain": [
       "RandomForestRegressor(random_state=42)"
      ]
     },
     "execution_count": 37,
     "metadata": {},
     "output_type": "execute_result"
    }
   ],
   "source": [
    "#Random Forest\n",
    "rf_no_rm = RandomForestRegressor(random_state=42)\n",
    "rf_no_rm.fit(X_train_no_rm, y_train_no_rm)"
   ]
  },
  {
   "cell_type": "code",
   "execution_count": 38,
   "id": "27257e84",
   "metadata": {},
   "outputs": [],
   "source": [
    "predictions_rf_no_rm = rf_no_rm.predict(X_test_no_rm)"
   ]
  },
  {
   "cell_type": "code",
   "execution_count": 39,
   "id": "fd3a6954",
   "metadata": {},
   "outputs": [
    {
     "name": "stdout",
     "output_type": "stream",
     "text": [
      "MSE del Decision Tree Regression: 25.577352941176468\n",
      "R2 del Decision Tree Regression: 0.6512200538562283\n",
      "MSE del Random Forest: 13.654145509803916\n",
      "R2 del Random Forest: 0.8138082487855139\n"
     ]
    }
   ],
   "source": [
    "#Avaluació dels models\n",
    "print('MSE del Decision Tree Regression:', mean_squared_error(y_test_no_rm, predictions_dt_no_rm))\n",
    "print('R2 del Decision Tree Regression:', r2_score(y_test_no_rm, predictions_dt_no_rm))\n",
    "\n",
    "print('MSE del Random Forest:', mean_squared_error(y_test_no_rm, predictions_rf_no_rm))\n",
    "print('R2 del Random Forest:', r2_score(y_test_no_rm, predictions_rf_no_rm))"
   ]
  },
  {
   "cell_type": "markdown",
   "id": "441bf499",
   "metadata": {},
   "source": [
    "Començant pel MSE, els valors obtinguts anteriorment eren:\n",
    "- MSE del Decision Tree Regression: 11.331568627450983\n",
    "- MSE del Random Forest: 8.012439598039217.\n",
    "\n",
    "Per tant, veiem que quan eliminem la variable del nombre d'habitacions, RM, obtenim un major error i, per tant, un pitjor rendiment."
   ]
  },
  {
   "cell_type": "markdown",
   "id": "fd47a480",
   "metadata": {},
   "source": [
    "El mateix succeeix quan analitzem el valor R2. En aquest cas els resultats obtinguts eren:\n",
    "- R2 del Decision Tree Regression: 0.8454795574547436\n",
    "- R2 del Random Forest: 0.8907401302272603\n",
    "\n",
    "Per tant, quan eliminem la variable RM el R2 disminueix, el que ens indica que el model és menys capaç d'explicar la variabilitat de la varible objectiu (el valor mitjà dels inmobles).\n",
    "\n",
    "Això vol dir que el nombre d'habitacions constitueix una variable important pel model, que convé tenir en compte per a poder millorar les prediccions."
   ]
  }
 ],
 "metadata": {
  "kernelspec": {
   "display_name": "Python 3 (ipykernel)",
   "language": "python",
   "name": "python3"
  },
  "language_info": {
   "codemirror_mode": {
    "name": "ipython",
    "version": 3
   },
   "file_extension": ".py",
   "mimetype": "text/x-python",
   "name": "python",
   "nbconvert_exporter": "python",
   "pygments_lexer": "ipython3",
   "version": "3.10.9"
  }
 },
 "nbformat": 4,
 "nbformat_minor": 5
}
